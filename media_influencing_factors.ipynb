{
 "cells": [
  {
   "cell_type": "code",
   "execution_count": 12,
   "metadata": {},
   "outputs": [],
   "source": [
    "import numpy as np\n",
    "import pandas as pd"
   ]
  },
  {
   "cell_type": "markdown",
   "metadata": {},
   "source": [
    "# Influencing factors in media coverage\n",
    "\n",
    "Our hypothesis is that we can observe come connection between the volume of the appearance of a disaster in the media and the characteristics of the disasters. To be concrete we would expect that there are more quotes about disasters with more casualities. In this section our aim is to determine these factors in the observed data of diasaters and examine their contribution to media coverage."
   ]
  },
  {
   "cell_type": "markdown",
   "metadata": {},
   "source": [
    "## Reaching the disasters\n",
    "\n",
    "As we have seen in the previous milestone, we can assume that to a specific disaster the quote realted to it will contain the name of the place and the type of the disaster. So our first goal is to assign the specific quotes according to this assumption to the adequate events."
   ]
  },
  {
   "cell_type": "markdown",
   "metadata": {},
   "source": [
    "Step 1: Collect the names and places of the biggest disasters."
   ]
  },
  {
   "cell_type": "code",
   "execution_count": 13,
   "metadata": {},
   "outputs": [
    {
     "data": {
      "text/html": [
       "<div>\n",
       "<style scoped>\n",
       "    .dataframe tbody tr th:only-of-type {\n",
       "        vertical-align: middle;\n",
       "    }\n",
       "\n",
       "    .dataframe tbody tr th {\n",
       "        vertical-align: top;\n",
       "    }\n",
       "\n",
       "    .dataframe thead th {\n",
       "        text-align: right;\n",
       "    }\n",
       "</style>\n",
       "<table border=\"1\" class=\"dataframe\">\n",
       "  <thead>\n",
       "    <tr style=\"text-align: right;\">\n",
       "      <th></th>\n",
       "      <th>Unnamed: 0</th>\n",
       "      <th>Dis No</th>\n",
       "      <th>Disaster Type</th>\n",
       "      <th>Disaster Subtype</th>\n",
       "      <th>Event Name</th>\n",
       "      <th>Country</th>\n",
       "      <th>ISO</th>\n",
       "      <th>Continent</th>\n",
       "      <th>OFDA Response</th>\n",
       "      <th>Appeal</th>\n",
       "      <th>...</th>\n",
       "      <th>No Injured</th>\n",
       "      <th>No Affected</th>\n",
       "      <th>No Homeless</th>\n",
       "      <th>Total Affected</th>\n",
       "      <th>Reconstruction Costs ('000 US$)</th>\n",
       "      <th>Insured Damages ('000 US$)</th>\n",
       "      <th>Total Damages ('000 US$)</th>\n",
       "      <th>human_readable_name</th>\n",
       "      <th>start_date</th>\n",
       "      <th>end_date</th>\n",
       "    </tr>\n",
       "  </thead>\n",
       "  <tbody>\n",
       "    <tr>\n",
       "      <th>0</th>\n",
       "      <td>0</td>\n",
       "      <td>2010-0017-HTI</td>\n",
       "      <td>Earthquake</td>\n",
       "      <td>Ground movement</td>\n",
       "      <td>Earthquake Haiti</td>\n",
       "      <td>Haiti</td>\n",
       "      <td>HTI</td>\n",
       "      <td>Americas</td>\n",
       "      <td>True</td>\n",
       "      <td>NaN</td>\n",
       "      <td>...</td>\n",
       "      <td>300000.0</td>\n",
       "      <td>3400000.0</td>\n",
       "      <td>NaN</td>\n",
       "      <td>3700000.0</td>\n",
       "      <td>11500000.0</td>\n",
       "      <td>200000.0</td>\n",
       "      <td>8000000.0</td>\n",
       "      <td>2010 Earthquake in Haiti</td>\n",
       "      <td>2010-01-01</td>\n",
       "      <td>2010-12-31</td>\n",
       "    </tr>\n",
       "    <tr>\n",
       "      <th>1</th>\n",
       "      <td>5</td>\n",
       "      <td>2010-0372-RUS</td>\n",
       "      <td>Extreme temperature</td>\n",
       "      <td>Heat wave</td>\n",
       "      <td>Extreme temperature  Russian Federation (the)</td>\n",
       "      <td>Russian Federation (the)</td>\n",
       "      <td>RUS</td>\n",
       "      <td>Europe</td>\n",
       "      <td>False</td>\n",
       "      <td>NaN</td>\n",
       "      <td>...</td>\n",
       "      <td>NaN</td>\n",
       "      <td>NaN</td>\n",
       "      <td>NaN</td>\n",
       "      <td>NaN</td>\n",
       "      <td>NaN</td>\n",
       "      <td>NaN</td>\n",
       "      <td>400000.0</td>\n",
       "      <td>2010 Extreme temperature  in Russian Federatio...</td>\n",
       "      <td>2010-01-01</td>\n",
       "      <td>2010-12-31</td>\n",
       "    </tr>\n",
       "    <tr>\n",
       "      <th>2</th>\n",
       "      <td>10</td>\n",
       "      <td>2010-9082-SOM</td>\n",
       "      <td>Drought</td>\n",
       "      <td>Drought</td>\n",
       "      <td>Drought Somalia</td>\n",
       "      <td>Somalia</td>\n",
       "      <td>SOM</td>\n",
       "      <td>Africa</td>\n",
       "      <td>False</td>\n",
       "      <td>Yes</td>\n",
       "      <td>...</td>\n",
       "      <td>NaN</td>\n",
       "      <td>4000000.0</td>\n",
       "      <td>NaN</td>\n",
       "      <td>4000000.0</td>\n",
       "      <td>NaN</td>\n",
       "      <td>NaN</td>\n",
       "      <td>NaN</td>\n",
       "      <td>2010 Drought in Somalia</td>\n",
       "      <td>2010-01-01</td>\n",
       "      <td>2011-12-31</td>\n",
       "    </tr>\n",
       "    <tr>\n",
       "      <th>3</th>\n",
       "      <td>11</td>\n",
       "      <td>2011-0082-JPN</td>\n",
       "      <td>Earthquake</td>\n",
       "      <td>Tsunami</td>\n",
       "      <td>Earthquake Japan</td>\n",
       "      <td>Japan</td>\n",
       "      <td>JPN</td>\n",
       "      <td>Asia</td>\n",
       "      <td>True</td>\n",
       "      <td>NaN</td>\n",
       "      <td>...</td>\n",
       "      <td>5933.0</td>\n",
       "      <td>362887.0</td>\n",
       "      <td>NaN</td>\n",
       "      <td>368820.0</td>\n",
       "      <td>NaN</td>\n",
       "      <td>37500000.0</td>\n",
       "      <td>210000000.0</td>\n",
       "      <td>2011 Earthquake in Japan</td>\n",
       "      <td>2011-01-01</td>\n",
       "      <td>2011-12-31</td>\n",
       "    </tr>\n",
       "    <tr>\n",
       "      <th>4</th>\n",
       "      <td>16</td>\n",
       "      <td>2015-0144-NPL</td>\n",
       "      <td>Earthquake</td>\n",
       "      <td>Ground movement</td>\n",
       "      <td>Earthquake Nepal</td>\n",
       "      <td>Nepal</td>\n",
       "      <td>NPL</td>\n",
       "      <td>Asia</td>\n",
       "      <td>True</td>\n",
       "      <td>NaN</td>\n",
       "      <td>...</td>\n",
       "      <td>17932.0</td>\n",
       "      <td>5621790.0</td>\n",
       "      <td>NaN</td>\n",
       "      <td>5639722.0</td>\n",
       "      <td>NaN</td>\n",
       "      <td>100000.0</td>\n",
       "      <td>5174000.0</td>\n",
       "      <td>2015 Earthquake in Nepal</td>\n",
       "      <td>2015-01-01</td>\n",
       "      <td>2015-12-31</td>\n",
       "    </tr>\n",
       "  </tbody>\n",
       "</table>\n",
       "<p>5 rows × 28 columns</p>\n",
       "</div>"
      ],
      "text/plain": [
       "   Unnamed: 0         Dis No         Disaster Type Disaster Subtype  \\\n",
       "0           0  2010-0017-HTI            Earthquake  Ground movement   \n",
       "1           5  2010-0372-RUS  Extreme temperature         Heat wave   \n",
       "2          10  2010-9082-SOM               Drought          Drought   \n",
       "3          11  2011-0082-JPN            Earthquake          Tsunami   \n",
       "4          16  2015-0144-NPL            Earthquake  Ground movement   \n",
       "\n",
       "                                      Event Name                   Country  \\\n",
       "0                               Earthquake Haiti                     Haiti   \n",
       "1  Extreme temperature  Russian Federation (the)  Russian Federation (the)   \n",
       "2                                Drought Somalia                   Somalia   \n",
       "3                               Earthquake Japan                     Japan   \n",
       "4                               Earthquake Nepal                     Nepal   \n",
       "\n",
       "   ISO Continent  OFDA Response Appeal  ... No Injured  No Affected  \\\n",
       "0  HTI  Americas           True    NaN  ...   300000.0    3400000.0   \n",
       "1  RUS    Europe          False    NaN  ...        NaN          NaN   \n",
       "2  SOM    Africa          False    Yes  ...        NaN    4000000.0   \n",
       "3  JPN      Asia           True    NaN  ...     5933.0     362887.0   \n",
       "4  NPL      Asia           True    NaN  ...    17932.0    5621790.0   \n",
       "\n",
       "   No Homeless Total Affected  Reconstruction Costs ('000 US$)  \\\n",
       "0          NaN      3700000.0                       11500000.0   \n",
       "1          NaN            NaN                              NaN   \n",
       "2          NaN      4000000.0                              NaN   \n",
       "3          NaN       368820.0                              NaN   \n",
       "4          NaN      5639722.0                              NaN   \n",
       "\n",
       "   Insured Damages ('000 US$) Total Damages ('000 US$)  \\\n",
       "0                    200000.0                8000000.0   \n",
       "1                         NaN                 400000.0   \n",
       "2                         NaN                      NaN   \n",
       "3                  37500000.0              210000000.0   \n",
       "4                    100000.0                5174000.0   \n",
       "\n",
       "                                 human_readable_name  start_date    end_date  \n",
       "0                           2010 Earthquake in Haiti  2010-01-01  2010-12-31  \n",
       "1  2010 Extreme temperature  in Russian Federatio...  2010-01-01  2010-12-31  \n",
       "2                            2010 Drought in Somalia  2010-01-01  2011-12-31  \n",
       "3                           2011 Earthquake in Japan  2011-01-01  2011-12-31  \n",
       "4                           2015 Earthquake in Nepal  2015-01-01  2015-12-31  \n",
       "\n",
       "[5 rows x 28 columns]"
      ]
     },
     "execution_count": 13,
     "metadata": {},
     "output_type": "execute_result"
    }
   ],
   "source": [
    "disasters = pd.read_csv(\"datasets/emdat/emdat_public_2021_11_06_clean.csv\")\n",
    "disasters[\"Event Name\"] = disasters[\"Disaster Type\"]+\" \"+disasters[\"Country\"]\n",
    "disasters.head()"
   ]
  },
  {
   "cell_type": "markdown",
   "metadata": {},
   "source": [
    "Step 2: Collect the specific quotes\n",
    "\n",
    "TODO: We can use these function from the previous milestone, with the words of the event name (splitted).\n",
    "\n",
    "1. Transfer the models used for classifying disasters on tweets (https://www.kaggle.com/c/nlp-getting-started/overview) to classifying disasters in Quotebank.\n",
    "Detailed description from the readme: \"We would also like to investigate how the models trained on disaster tweets datasets used for classifying natural disaster in the tweets will perform on the quotes from the Quotebank. To do so, we propose to train simple BERT-based sentence encoding with a Logistic Regression Classifier.\"\n",
    "\n",
    "2. Classify whether a certain quote is talking about a certain disaster by using simple regexes that would include some information about the place the disaster happened in.\n",
    "Description from the readme: \"In tackling the research question of analyzing how long natural disasters will be talked about, the crucial component is to classify whether a specific quote is talking about a specific disaster. The method we propose to find whether a quote is about a certain disaster is to do simple text searching to match the expected words. These words might include some details about the place where the disaster happened. Depending on the scalability of the method, we would perform the analysis on a subset of the disasters. Assuming that a number of disasters happen in places that usually do not receive much media attention (like Fukushima in world news), we could for example select these disasters and then search for quotes that mention these places, hoping for good precision.\""
   ]
  },
  {
   "cell_type": "code",
   "execution_count": 14,
   "metadata": {},
   "outputs": [],
   "source": [
    "def contain_all_words_regex(words):\n",
    "    return \"\".join([f\"(?=.*{word})\" for word in words])\n",
    "\n",
    "def quotes_that_contain_all_words(words):\n",
    "    return dataset[dataset.quotation.str.lower().str.contains(contain_all_words_regex(words), regex=True)]"
   ]
  },
  {
   "cell_type": "markdown",
   "metadata": {},
   "source": [
    "TODO: Suggestion: here probably we should add a new column to the quotes dataset, where we store either the ID of the disaster or the word pair of the disaster. \n",
    "\n",
    "Also we can remove all unneccassary quotes in this section. "
   ]
  },
  {
   "cell_type": "markdown",
   "metadata": {},
   "source": [
    "## Determine the volume of media coverage\n",
    "\n",
    "TODO: In this part I would suggest to determine a volume indicator based on the following. \n",
    "- the number of days between the first media appearance and the last (maybe we can leave out the last few quotes if there are some outliers)\n",
    "- Maybe we can assume that the distribution of the appearances follow a power law.\n",
    "- The highest number of quotes per day and all of the quotes about the event also can be an important indicator. "
   ]
  },
  {
   "cell_type": "code",
   "execution_count": null,
   "metadata": {},
   "outputs": [],
   "source": []
  },
  {
   "cell_type": "markdown",
   "metadata": {},
   "source": [
    "In this point we should assign the these media coverage indicators to the disasters."
   ]
  },
  {
   "cell_type": "code",
   "execution_count": null,
   "metadata": {},
   "outputs": [],
   "source": []
  },
  {
   "cell_type": "markdown",
   "metadata": {},
   "source": [
    "## Determine the contibuting factors\n",
    "\n",
    "Here we should find our dataset about the country indicators and merge it to the disaster dataset. \n",
    "\n",
    "We should find first the relevant columns in the disaster dataset which can be tested that it has an effect of the volume numbers. "
   ]
  },
  {
   "cell_type": "code",
   "execution_count": null,
   "metadata": {},
   "outputs": [],
   "source": []
  },
  {
   "cell_type": "markdown",
   "metadata": {},
   "source": [
    "## Visualisations\n",
    "\n",
    "This is the right place to make some nice visualizations for the datastory. "
   ]
  }
 ],
 "metadata": {
  "interpreter": {
   "hash": "c5f0c21a4d748314dbe9d2089055473f1ace0c50f4a2cbfb4e3f48e8edf2447f"
  },
  "kernelspec": {
   "display_name": "Python 3.8.12 64-bit ('base': conda)",
   "language": "python",
   "name": "python3"
  },
  "language_info": {
   "codemirror_mode": {
    "name": "ipython",
    "version": 3
   },
   "file_extension": ".py",
   "mimetype": "text/x-python",
   "name": "python",
   "nbconvert_exporter": "python",
   "pygments_lexer": "ipython3",
   "version": "3.8.12"
  },
  "orig_nbformat": 4
 },
 "nbformat": 4,
 "nbformat_minor": 2
}
