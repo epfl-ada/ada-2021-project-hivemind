{
 "cells": [
  {
   "cell_type": "code",
   "execution_count": 1,
   "id": "635f0a80",
   "metadata": {},
   "outputs": [
    {
     "name": "stderr",
     "output_type": "stream",
     "text": [
      "2021-12-10 23:43:48.485642: I tensorflow/stream_executor/platform/default/dso_loader.cc:48] Successfully opened dynamic library libcudart.so.10.2\n",
      "/ssoft/spack/arvine/v1/opt/spack/linux-rhel7-skylake_avx512/gcc-8.4.0/python-3.7.7-drpdlwdbo3lmtkcbckq227ypnzno4ek3/lib/python3.7/importlib/_bootstrap.py:219: RuntimeWarning: mpi4py.MPI.Status size changed, may indicate binary incompatibility. Expected 40 from C header, got 48 from PyObject\n",
      "  return f(*args, **kwds)\n",
      "/ssoft/spack/arvine/v1/opt/spack/linux-rhel7-skylake_avx512/gcc-8.4.0/python-3.7.7-drpdlwdbo3lmtkcbckq227ypnzno4ek3/lib/python3.7/importlib/_bootstrap.py:219: RuntimeWarning: mpi4py.MPI.Datatype size changed, may indicate binary incompatibility. Expected 24 from C header, got 32 from PyObject\n",
      "  return f(*args, **kwds)\n",
      "/ssoft/spack/arvine/v1/opt/spack/linux-rhel7-skylake_avx512/gcc-8.4.0/python-3.7.7-drpdlwdbo3lmtkcbckq227ypnzno4ek3/lib/python3.7/importlib/_bootstrap.py:219: RuntimeWarning: mpi4py.MPI.Request size changed, may indicate binary incompatibility. Expected 32 from C header, got 40 from PyObject\n",
      "  return f(*args, **kwds)\n",
      "/ssoft/spack/arvine/v1/opt/spack/linux-rhel7-skylake_avx512/gcc-8.4.0/python-3.7.7-drpdlwdbo3lmtkcbckq227ypnzno4ek3/lib/python3.7/importlib/_bootstrap.py:219: RuntimeWarning: mpi4py.MPI.Prequest size changed, may indicate binary incompatibility. Expected 32 from C header, got 40 from PyObject\n",
      "  return f(*args, **kwds)\n",
      "/ssoft/spack/arvine/v1/opt/spack/linux-rhel7-skylake_avx512/gcc-8.4.0/python-3.7.7-drpdlwdbo3lmtkcbckq227ypnzno4ek3/lib/python3.7/importlib/_bootstrap.py:219: RuntimeWarning: mpi4py.MPI.Grequest size changed, may indicate binary incompatibility. Expected 40 from C header, got 48 from PyObject\n",
      "  return f(*args, **kwds)\n",
      "/ssoft/spack/arvine/v1/opt/spack/linux-rhel7-skylake_avx512/gcc-8.4.0/python-3.7.7-drpdlwdbo3lmtkcbckq227ypnzno4ek3/lib/python3.7/importlib/_bootstrap.py:219: RuntimeWarning: mpi4py.MPI.Message size changed, may indicate binary incompatibility. Expected 32 from C header, got 40 from PyObject\n",
      "  return f(*args, **kwds)\n",
      "/ssoft/spack/arvine/v1/opt/spack/linux-rhel7-skylake_avx512/gcc-8.4.0/python-3.7.7-drpdlwdbo3lmtkcbckq227ypnzno4ek3/lib/python3.7/importlib/_bootstrap.py:219: RuntimeWarning: mpi4py.MPI.Op size changed, may indicate binary incompatibility. Expected 40 from C header, got 48 from PyObject\n",
      "  return f(*args, **kwds)\n",
      "/ssoft/spack/arvine/v1/opt/spack/linux-rhel7-skylake_avx512/gcc-8.4.0/python-3.7.7-drpdlwdbo3lmtkcbckq227ypnzno4ek3/lib/python3.7/importlib/_bootstrap.py:219: RuntimeWarning: mpi4py.MPI.Group size changed, may indicate binary incompatibility. Expected 24 from C header, got 32 from PyObject\n",
      "  return f(*args, **kwds)\n",
      "/ssoft/spack/arvine/v1/opt/spack/linux-rhel7-skylake_avx512/gcc-8.4.0/python-3.7.7-drpdlwdbo3lmtkcbckq227ypnzno4ek3/lib/python3.7/importlib/_bootstrap.py:219: RuntimeWarning: mpi4py.MPI.Info size changed, may indicate binary incompatibility. Expected 24 from C header, got 32 from PyObject\n",
      "  return f(*args, **kwds)\n",
      "/ssoft/spack/arvine/v1/opt/spack/linux-rhel7-skylake_avx512/gcc-8.4.0/python-3.7.7-drpdlwdbo3lmtkcbckq227ypnzno4ek3/lib/python3.7/importlib/_bootstrap.py:219: RuntimeWarning: mpi4py.MPI.Errhandler size changed, may indicate binary incompatibility. Expected 24 from C header, got 32 from PyObject\n",
      "  return f(*args, **kwds)\n",
      "/ssoft/spack/arvine/v1/opt/spack/linux-rhel7-skylake_avx512/gcc-8.4.0/python-3.7.7-drpdlwdbo3lmtkcbckq227ypnzno4ek3/lib/python3.7/importlib/_bootstrap.py:219: RuntimeWarning: mpi4py.MPI.Comm size changed, may indicate binary incompatibility. Expected 24 from C header, got 32 from PyObject\n",
      "  return f(*args, **kwds)\n",
      "/ssoft/spack/arvine/v1/opt/spack/linux-rhel7-skylake_avx512/gcc-8.4.0/python-3.7.7-drpdlwdbo3lmtkcbckq227ypnzno4ek3/lib/python3.7/importlib/_bootstrap.py:219: RuntimeWarning: mpi4py.MPI.Intracomm size changed, may indicate binary incompatibility. Expected 24 from C header, got 32 from PyObject\n",
      "  return f(*args, **kwds)\n",
      "/ssoft/spack/arvine/v1/opt/spack/linux-rhel7-skylake_avx512/gcc-8.4.0/python-3.7.7-drpdlwdbo3lmtkcbckq227ypnzno4ek3/lib/python3.7/importlib/_bootstrap.py:219: RuntimeWarning: mpi4py.MPI.Topocomm size changed, may indicate binary incompatibility. Expected 24 from C header, got 32 from PyObject\n",
      "  return f(*args, **kwds)\n",
      "/ssoft/spack/arvine/v1/opt/spack/linux-rhel7-skylake_avx512/gcc-8.4.0/python-3.7.7-drpdlwdbo3lmtkcbckq227ypnzno4ek3/lib/python3.7/importlib/_bootstrap.py:219: RuntimeWarning: mpi4py.MPI.Cartcomm size changed, may indicate binary incompatibility. Expected 24 from C header, got 32 from PyObject\n",
      "  return f(*args, **kwds)\n",
      "/ssoft/spack/arvine/v1/opt/spack/linux-rhel7-skylake_avx512/gcc-8.4.0/python-3.7.7-drpdlwdbo3lmtkcbckq227ypnzno4ek3/lib/python3.7/importlib/_bootstrap.py:219: RuntimeWarning: mpi4py.MPI.Graphcomm size changed, may indicate binary incompatibility. Expected 24 from C header, got 32 from PyObject\n",
      "  return f(*args, **kwds)\n",
      "/ssoft/spack/arvine/v1/opt/spack/linux-rhel7-skylake_avx512/gcc-8.4.0/python-3.7.7-drpdlwdbo3lmtkcbckq227ypnzno4ek3/lib/python3.7/importlib/_bootstrap.py:219: RuntimeWarning: mpi4py.MPI.Distgraphcomm size changed, may indicate binary incompatibility. Expected 24 from C header, got 32 from PyObject\n",
      "  return f(*args, **kwds)\n",
      "/ssoft/spack/arvine/v1/opt/spack/linux-rhel7-skylake_avx512/gcc-8.4.0/python-3.7.7-drpdlwdbo3lmtkcbckq227ypnzno4ek3/lib/python3.7/importlib/_bootstrap.py:219: RuntimeWarning: mpi4py.MPI.Intercomm size changed, may indicate binary incompatibility. Expected 24 from C header, got 32 from PyObject\n",
      "  return f(*args, **kwds)\n",
      "/ssoft/spack/arvine/v1/opt/spack/linux-rhel7-skylake_avx512/gcc-8.4.0/python-3.7.7-drpdlwdbo3lmtkcbckq227ypnzno4ek3/lib/python3.7/importlib/_bootstrap.py:219: RuntimeWarning: mpi4py.MPI.Win size changed, may indicate binary incompatibility. Expected 32 from C header, got 40 from PyObject\n",
      "  return f(*args, **kwds)\n",
      "/ssoft/spack/arvine/v1/opt/spack/linux-rhel7-skylake_avx512/gcc-8.4.0/python-3.7.7-drpdlwdbo3lmtkcbckq227ypnzno4ek3/lib/python3.7/importlib/_bootstrap.py:219: RuntimeWarning: mpi4py.MPI.File size changed, may indicate binary incompatibility. Expected 32 from C header, got 40 from PyObject\n",
      "  return f(*args, **kwds)\n"
     ]
    }
   ],
   "source": [
    "import os\n",
    "# os.environ[\"CUDA_VISIBLE_DEVICES\"]=\"1\"\n",
    "\n",
    "import numpy as np\n",
    "from tensorflow.keras.models import load_model\n",
    "import tensorflow_hub as hub\n",
    "import dask\n",
    "import dask.array as da\n",
    "import dask.bag as db\n",
    "import dask.dataframe as dd\n",
    "\n",
    "# !wget --quiet https://raw.githubusercontent.com/tensorflow/models/master/official/nlp/bert/tokenization.py\n",
    "import tokenization"
   ]
  },
  {
   "cell_type": "code",
   "execution_count": 2,
   "id": "fd3cd9b6",
   "metadata": {},
   "outputs": [],
   "source": [
    "MODEL_CHECKPOINT_NAME = \"model_lr=5e-06_hid=1024,512,256_maxlen=300_batch=8_epochs=100_seed=72_l2=0.003.h5\"\n",
    "MAX_LEN = 300  # Needs to match the checkpoint above!"
   ]
  },
  {
   "cell_type": "code",
   "execution_count": 3,
   "id": "4e4952d9",
   "metadata": {},
   "outputs": [
    {
     "name": "stderr",
     "output_type": "stream",
     "text": [
      "2021-12-10 23:44:11.437125: I tensorflow/stream_executor/platform/default/dso_loader.cc:48] Successfully opened dynamic library libcuda.so.1\n",
      "2021-12-10 23:44:11.539281: I tensorflow/core/common_runtime/gpu/gpu_device.cc:1716] Found device 0 with properties: \n",
      "pciBusID: 0000:d8:00.0 name: Tesla V100-PCIE-32GB computeCapability: 7.0\n",
      "coreClock: 1.38GHz coreCount: 80 deviceMemorySize: 31.75GiB deviceMemoryBandwidth: 836.37GiB/s\n",
      "2021-12-10 23:44:11.539351: I tensorflow/stream_executor/platform/default/dso_loader.cc:48] Successfully opened dynamic library libcudart.so.10.2\n",
      "2021-12-10 23:44:11.545318: I tensorflow/stream_executor/platform/default/dso_loader.cc:48] Successfully opened dynamic library libcublas.so.10\n",
      "2021-12-10 23:44:11.550174: I tensorflow/stream_executor/platform/default/dso_loader.cc:48] Successfully opened dynamic library libcufft.so.10\n",
      "2021-12-10 23:44:11.551737: I tensorflow/stream_executor/platform/default/dso_loader.cc:48] Successfully opened dynamic library libcurand.so.10\n",
      "2021-12-10 23:44:11.556211: I tensorflow/stream_executor/platform/default/dso_loader.cc:48] Successfully opened dynamic library libcusolver.so.10\n",
      "2021-12-10 23:44:11.558328: I tensorflow/stream_executor/platform/default/dso_loader.cc:48] Successfully opened dynamic library libcusparse.so.10\n",
      "2021-12-10 23:44:11.566296: I tensorflow/stream_executor/platform/default/dso_loader.cc:48] Successfully opened dynamic library libcudnn.so.7\n",
      "2021-12-10 23:44:11.568939: I tensorflow/core/common_runtime/gpu/gpu_device.cc:1858] Adding visible gpu devices: 0\n",
      "2021-12-10 23:44:11.571724: I tensorflow/core/common_runtime/gpu/gpu_device.cc:1716] Found device 0 with properties: \n",
      "pciBusID: 0000:d8:00.0 name: Tesla V100-PCIE-32GB computeCapability: 7.0\n",
      "coreClock: 1.38GHz coreCount: 80 deviceMemorySize: 31.75GiB deviceMemoryBandwidth: 836.37GiB/s\n",
      "2021-12-10 23:44:11.571782: I tensorflow/stream_executor/platform/default/dso_loader.cc:48] Successfully opened dynamic library libcudart.so.10.2\n",
      "2021-12-10 23:44:11.571803: I tensorflow/stream_executor/platform/default/dso_loader.cc:48] Successfully opened dynamic library libcublas.so.10\n",
      "2021-12-10 23:44:11.571839: I tensorflow/stream_executor/platform/default/dso_loader.cc:48] Successfully opened dynamic library libcufft.so.10\n",
      "2021-12-10 23:44:11.571852: I tensorflow/stream_executor/platform/default/dso_loader.cc:48] Successfully opened dynamic library libcurand.so.10\n",
      "2021-12-10 23:44:11.571863: I tensorflow/stream_executor/platform/default/dso_loader.cc:48] Successfully opened dynamic library libcusolver.so.10\n",
      "2021-12-10 23:44:11.571874: I tensorflow/stream_executor/platform/default/dso_loader.cc:48] Successfully opened dynamic library libcusparse.so.10\n",
      "2021-12-10 23:44:11.571908: I tensorflow/stream_executor/platform/default/dso_loader.cc:48] Successfully opened dynamic library libcudnn.so.7\n",
      "2021-12-10 23:44:11.574238: I tensorflow/core/common_runtime/gpu/gpu_device.cc:1858] Adding visible gpu devices: 0\n",
      "2021-12-10 23:44:11.574295: I tensorflow/stream_executor/platform/default/dso_loader.cc:48] Successfully opened dynamic library libcudart.so.10.2\n",
      "2021-12-10 23:44:12.646258: I tensorflow/core/common_runtime/gpu/gpu_device.cc:1257] Device interconnect StreamExecutor with strength 1 edge matrix:\n",
      "2021-12-10 23:44:12.646339: I tensorflow/core/common_runtime/gpu/gpu_device.cc:1263]      0 \n",
      "2021-12-10 23:44:12.646346: I tensorflow/core/common_runtime/gpu/gpu_device.cc:1276] 0:   N \n",
      "2021-12-10 23:44:12.656077: I tensorflow/core/common_runtime/gpu/gpu_device.cc:1402] Created TensorFlow device (/job:localhost/replica:0/task:0/device:GPU:0 with 30158 MB memory) -> physical GPU (device: 0, name: Tesla V100-PCIE-32GB, pci bus id: 0000:d8:00.0, compute capability: 7.0)\n"
     ]
    },
    {
     "name": "stdout",
     "output_type": "stream",
     "text": [
      "BERT layer to be used loaded\n"
     ]
    }
   ],
   "source": [
    "# fetch bert layer\n",
    "module_url = \"https://tfhub.dev/tensorflow/bert_en_uncased_L-24_H-1024_A-16/1\"\n",
    "bert_layer = hub.KerasLayer(module_url, trainable=True)\n",
    "\n",
    "# initialize tokenizer\n",
    "tokenizer = tokenization.FullTokenizer(\n",
    "    vocab_file = bert_layer.resolved_object.vocab_file.asset_path.numpy(),\n",
    "    do_lower_case = bert_layer.resolved_object.do_lower_case.numpy()\n",
    ")\n",
    "\n",
    "print(f\"BERT layer to be used loaded\")"
   ]
  },
  {
   "cell_type": "code",
   "execution_count": null,
   "id": "69610832",
   "metadata": {},
   "outputs": [],
   "source": [
    "model = load_model(MODEL_CHECKPOINT_NAME, custom_objects={'KerasLayer': hub.KerasLayer})\n",
    "\n",
    "print(f\"Loaded checkpoint: {MODEL_CHECKPOINT_NAME}\")"
   ]
  },
  {
   "cell_type": "code",
   "execution_count": 45,
   "id": "2af77a00",
   "metadata": {},
   "outputs": [
    {
     "name": "stdout",
     "output_type": "stream",
     "text": [
      "Delayed('predict-22f4b830-2753-46b5-9cd6-9ef9e25089be')\n"
     ]
    },
    {
     "data": {
      "text/plain": [
       "array([[0],\n",
       "       [0],\n",
       "       [1],\n",
       "       [0]], dtype=uint8)"
      ]
     },
     "execution_count": 45,
     "metadata": {},
     "output_type": "execute_result"
    }
   ],
   "source": [
    "def bert_encode(texts, tokenizer, max_len=512):\n",
    "    all_tokens = []\n",
    "    all_masks = []\n",
    "    all_segments = []\n",
    "    \n",
    "    for text in texts:\n",
    "        text = tokenizer.tokenize(text)\n",
    "            \n",
    "        text = text[:max_len-2]\n",
    "        input_sequence = [\"[CLS]\"] + text + [\"[SEP]\"]\n",
    "        pad_len = max_len - len(input_sequence)\n",
    "        \n",
    "        tokens = tokenizer.convert_tokens_to_ids(input_sequence)\n",
    "        tokens += [0] * pad_len\n",
    "        pad_masks = [1] * len(input_sequence) + [0] * pad_len\n",
    "        segment_ids = [0] * max_len\n",
    "        \n",
    "        all_tokens.append(tokens)\n",
    "        all_masks.append(pad_masks)\n",
    "        all_segments.append(segment_ids)\n",
    "    \n",
    "    return np.array(all_tokens), np.array(all_masks), np.array(all_segments)\n",
    "\n",
    "@dask.delayed\n",
    "def predict(model, texts_batch):\n",
    "    batch_input = bert_encode(texts_batch, tokenizer, max_len=MAX_LEN)\n",
    "    predictions = model.predict(batch_input).round().astype(np.uint8)\n",
    "    return predictions # np.array([0,1,1,0,0,0,...])\n",
    "\n",
    "texts_sample = [\n",
    "    \"This is a disaster!\",\n",
    "    \"But this is not!\",\n",
    "    \"Haiti earthquake 2010!\",\n",
    "    \"lava ground!\"]\n",
    "z = predict(model, texts_sample)\n",
    "\n",
    "print(z)\n",
    "z.compute()"
   ]
  },
  {
   "cell_type": "code",
   "execution_count": 52,
   "id": "81ef1fdf",
   "metadata": {},
   "outputs": [
    {
     "data": {
      "text/html": [
       "<table>\n",
       "    <tr>\n",
       "        <td>\n",
       "            <table>\n",
       "                <thead>\n",
       "                    <tr>\n",
       "                        <td> </td>\n",
       "                        <th> Array </th>\n",
       "                        <th> Chunk </th>\n",
       "                    </tr>\n",
       "                </thead>\n",
       "                <tbody>\n",
       "                    \n",
       "                    <tr>\n",
       "                        <th> Bytes </th>\n",
       "                        <td> 4 B </td>\n",
       "                        <td> 4 B </td>\n",
       "                    </tr>\n",
       "                    \n",
       "                    <tr>\n",
       "                        <th> Shape </th>\n",
       "                        <td> (4,) </td>\n",
       "                        <td> (4,) </td>\n",
       "                    </tr>\n",
       "                    <tr>\n",
       "                        <th> Count </th>\n",
       "                        <td> 2 Tasks </td>\n",
       "                        <td> 1 Chunks </td>\n",
       "                    </tr>\n",
       "                    <tr>\n",
       "                    <th> Type </th>\n",
       "                    <td> uint8 </td>\n",
       "                    <td> numpy.ndarray </td>\n",
       "                    </tr>\n",
       "                </tbody>\n",
       "            </table>\n",
       "        </td>\n",
       "        <td>\n",
       "        <svg width=\"170\" height=\"92\" style=\"stroke:rgb(0,0,0);stroke-width:1\" >\n",
       "\n",
       "  <!-- Horizontal lines -->\n",
       "  <line x1=\"0\" y1=\"0\" x2=\"120\" y2=\"0\" style=\"stroke-width:2\" />\n",
       "  <line x1=\"0\" y1=\"42\" x2=\"120\" y2=\"42\" style=\"stroke-width:2\" />\n",
       "\n",
       "  <!-- Vertical lines -->\n",
       "  <line x1=\"0\" y1=\"0\" x2=\"0\" y2=\"42\" style=\"stroke-width:2\" />\n",
       "  <line x1=\"120\" y1=\"0\" x2=\"120\" y2=\"42\" style=\"stroke-width:2\" />\n",
       "\n",
       "  <!-- Colored Rectangle -->\n",
       "  <polygon points=\"0.0,0.0 120.0,0.0 120.0,42.89879552186203 0.0,42.89879552186203\" style=\"fill:#ECB172A0;stroke-width:0\"/>\n",
       "\n",
       "  <!-- Text -->\n",
       "  <text x=\"60.000000\" y=\"62.898796\" font-size=\"1.0rem\" font-weight=\"100\" text-anchor=\"middle\" >4</text>\n",
       "  <text x=\"140.000000\" y=\"21.449398\" font-size=\"1.0rem\" font-weight=\"100\" text-anchor=\"middle\" transform=\"rotate(0,140.000000,21.449398)\">1</text>\n",
       "</svg>\n",
       "        </td>\n",
       "    </tr>\n",
       "</table>"
      ],
      "text/plain": [
       "dask.array<from-value, shape=(4,), dtype=uint8, chunksize=(4,), chunktype=numpy.ndarray>"
      ]
     },
     "execution_count": 52,
     "metadata": {},
     "output_type": "execute_result"
    }
   ],
   "source": [
    "array = da.from_delayed(z, (4,), dtype=np.uint8)\n",
    "array"
   ]
  },
  {
   "cell_type": "code",
   "execution_count": 53,
   "id": "5f9778fc",
   "metadata": {},
   "outputs": [
    {
     "data": {
      "text/plain": [
       "array([[0],\n",
       "       [0],\n",
       "       [1],\n",
       "       [0]], dtype=uint8)"
      ]
     },
     "execution_count": 53,
     "metadata": {},
     "output_type": "execute_result"
    }
   ],
   "source": [
    "array.compute()"
   ]
  },
  {
   "cell_type": "code",
   "execution_count": 66,
   "id": "4a85c7c6",
   "metadata": {},
   "outputs": [],
   "source": [
    "# TODO 1. Make the prediction work on Quotebank\n",
    "#         Below is my trial\n",
    "DATASET_PATH = \"../quotebank\"\n",
    "quotebank_df_array = [dd.read_parquet(f\"{DATASET_PATH}/quotes-{year}.parquet\") for year in range(2008, 2021)]\n",
    "dataset = dd.concat(quotebank_df_array, interleave_partitions=True)"
   ]
  },
  {
   "cell_type": "code",
   "execution_count": 72,
   "id": "6d2028b3",
   "metadata": {},
   "outputs": [
    {
     "data": {
      "text/plain": [
       "234994989"
      ]
     },
     "execution_count": 72,
     "metadata": {},
     "output_type": "execute_result"
    }
   ],
   "source": [
    "# n = len(dataset)\n",
    "n = 234994989\n",
    "n"
   ]
  },
  {
   "cell_type": "code",
   "execution_count": null,
   "id": "a658e3de",
   "metadata": {},
   "outputs": [],
   "source": [
    "array = da.from_delayed([predict(model, [q]) for q in dataset.quotation.str], (n,), dtype=float)\n",
    "array"
   ]
  },
  {
   "cell_type": "code",
   "execution_count": null,
   "id": "38f4b09f",
   "metadata": {
    "collapsed": true
   },
   "outputs": [],
   "source": [
    "array.compute()"
   ]
  },
  {
   "cell_type": "code",
   "execution_count": null,
   "id": "44d53ab7",
   "metadata": {},
   "outputs": [],
   "source": [
    "# TODO 2. filter quotes belonging to positive predictions\n",
    "# TODO 3. randomly select 1000 positive quotes. We will pick a subset of them for hand evaluation\n",
    "# TODO 4. if not too large --> save the resulting quotes dataset somewhere\n",
    "#         if too large --> save the IDs of the positive quotes\n",
    "#         or perpahs don't save anything if we will not need it later?"
   ]
  }
 ],
 "metadata": {
  "kernelspec": {
   "display_name": "Python 3 (ipykernel)",
   "language": "python",
   "name": "python3"
  },
  "language_info": {
   "codemirror_mode": {
    "name": "ipython",
    "version": 3
   },
   "file_extension": ".py",
   "mimetype": "text/x-python",
   "name": "python",
   "nbconvert_exporter": "python",
   "pygments_lexer": "ipython3",
   "version": "3.7.7"
  }
 },
 "nbformat": 4,
 "nbformat_minor": 5
}