{
 "cells": [
  {
   "cell_type": "code",
   "execution_count": 2,
   "metadata": {
    "collapsed": true
   },
   "outputs": [],
   "source": [
    "import os\n",
    "import json\n",
    "import csv\n",
    "import tld\n",
    "import pandas as pd\n",
    "import numpy as np\n",
    "import matplotlib.pyplot as plt"
   ]
  },
  {
   "cell_type": "code",
   "execution_count": 3,
   "outputs": [],
   "source": [
    "from dask.distributed import Client\n",
    "import dask.bag as db\n",
    "import dask.dataframe as dd\n",
    "\n",
    "client = Client(n_workers=4, memory_limit=\"4 GiB\")"
   ],
   "metadata": {
    "collapsed": false,
    "pycharm": {
     "name": "#%%\n"
    }
   }
  },
  {
   "cell_type": "code",
   "execution_count": 4,
   "outputs": [],
   "source": [
    "DATASET_PATH = \"datasets\"\n",
    "\n",
    "filename = \"raw_quotes/quotes-2020.json\"\n",
    "\n",
    "dataset = db.read_text(os.path.join(DATASET_PATH, filename)).map(json.loads)"
   ],
   "metadata": {
    "collapsed": false,
    "pycharm": {
     "name": "#%%\n"
    }
   }
  },
  {
   "cell_type": "code",
   "execution_count": 5,
   "outputs": [],
   "source": [
    "def remove_probability_of_others_then_most(quote):\n",
    "    del quote[\"probas\"]\n",
    "    return quote"
   ],
   "metadata": {
    "collapsed": false,
    "pycharm": {
     "name": "#%%\n"
    }
   }
  },
  {
   "cell_type": "code",
   "execution_count": 6,
   "outputs": [],
   "source": [
    "def extract_probability_of_most_prob_speaker(quote):\n",
    "    quote[\"speaker_prob\"] = float(quote[\"probas\"][0][1])\n",
    "    return quote"
   ],
   "metadata": {
    "collapsed": false,
    "pycharm": {
     "name": "#%%\n"
    }
   }
  },
  {
   "cell_type": "code",
   "execution_count": 7,
   "outputs": [],
   "source": [
    "def extract_only_one_qid(quote):\n",
    "    quote[\"qids\"] = quote[\"qids\"] if len(quote[\"qids\"]) == 1 else None\n",
    "    return quote"
   ],
   "metadata": {
    "collapsed": false,
    "pycharm": {
     "name": "#%%\n"
    }
   }
  },
  {
   "cell_type": "code",
   "execution_count": 8,
   "outputs": [],
   "source": [
    "with open('datasets/GDELTDOMAINSBYCOUNTRY-MAY2018.TXT') as csvfile:\n",
    "    reader = csv.reader(csvfile, delimiter='\\t')\n",
    "    next(reader, None) # skip header\n",
    "    domains_by_country_dict = {rows[0]:rows[1] for rows in reader}"
   ],
   "metadata": {
    "collapsed": false,
    "pycharm": {
     "name": "#%%\n"
    }
   }
  },
  {
   "cell_type": "code",
   "execution_count": 9,
   "outputs": [],
   "source": [
    "def convert_domain_to_country(quote, domains_by_country_dict):\n",
    "    #add countries list to data based on the GDELT dataset\n",
    "    countries_set = set()\n",
    "    for url in quote[\"urls\"]:\n",
    "        domain_name = tld.get_fld(url)\n",
    "        if domain_name in domains_by_country_dict:\n",
    "            countries_set.add(domains_by_country_dict[domain_name])\n",
    "    quote[\"url_countries\"] = list(countries_set) if len(countries_set) != 0  else None\n",
    "    return quote\n"
   ],
   "metadata": {
    "collapsed": false,
    "pycharm": {
     "name": "#%%\n"
    }
   }
  },
  {
   "cell_type": "code",
   "execution_count": 10,
   "outputs": [
    {
     "data": {
      "text/plain": "({'quoteID': '2020-04-08-001814',\n  'quotation': 'After 10 years of growth we will experience a recession this year,',\n  'speaker': 'Peter Altmaier',\n  'qids': ['Q65539'],\n  'date': '2020-04-08 07:54:20',\n  'numOccurrences': 5,\n  'urls': ['http://www.breitbart.com/news/france-germany-face-historic-economic-declines/',\n   'https://www.ibtimes.com/german-economy-shrink-nearly-10-q2-experts-2954923',\n   'https://www.financialexpress.com/economy/europes-biggest-german-economy-to-shrink-by-nearly-10-in-q2-say-experts/1922698/',\n   'http://www.courthousenews.com/german-economy-takes-a-staggering-hit/',\n   'https://www.business-standard.com/article/pti-stories/france-germany-face-historic-economic-declines-120040801280_1.html'],\n  'phase': 'E',\n  'speaker_prob': 0.7357,\n  'url_countries': ['IN', 'US']},\n {'quoteID': '2020-02-16-002091',\n  'quotation': 'an expectation of the contact Aboriginal and Torres Strait Islander people and particularly young people will have with police',\n  'speaker': 'David Elliott',\n  'qids': None,\n  'date': '2020-02-16 13:00:00',\n  'numOccurrences': 9,\n  'urls': ['http://msn.com/en-au/news/australia/systemic-unlawfulness-88-per-cent-of-nsw-police-searches-found-nothing/ar-BB103hKv?li=AAgfIYZ',\n   'http://msn.com/en-au/news/australia/systemic-unlawfulness-88-per-cent-of-nsw-police-searches-found-nothing/ar-BB103hKv?li=BBU4PL8',\n   'http://msn.com/en-au/news/australia/systemic-unlawfulness-88-per-cent-of-nsw-police-searches-found-nothing/ar-BB103qW7?li=AAgfLCP',\n   'http://msn.com/en-au/news/australia/systemic-unlawfulness-88-per-cent-of-nsw-police-searches-found-nothing/ar-BB103qW7?li=BBU4PL8',\n   'http://www.brisbanetimes.com.au/national/systemic-unlawfulness-88-per-cent-of-nsw-police-searches-found-nothing-20200214-p540t4.html',\n   'http://www.smh.com.au/national/systemic-unlawfulness-88-per-cent-of-nsw-police-searches-found-nothing-20200214-p540t4.html',\n   'http://www.theage.com.au/national/systemic-unlawfulness-88-per-cent-of-nsw-police-searches-found-nothing-20200214-p540t4.html',\n   'https://www.smh.com.au/national/systemic-unlawfulness-88-per-cent-of-nsw-police-searches-found-nothing-20200214-p540t4.html?ref=rss&utm_medium=rss&utm_source=rss_feed',\n   'https://www.watoday.com.au/national/systemic-unlawfulness-88-per-cent-of-nsw-police-searches-found-nothing-20200214-p540t4.html?ref=rss&utm_medium=rss&utm_source=rss_feed'],\n  'phase': 'E',\n  'speaker_prob': 0.6047,\n  'url_countries': ['US', 'AS']},\n {'quoteID': '2020-03-30-002960',\n  'quotation': 'And as I was finishing saying goodbye, the nurse took the phone back up, and I could see the nurse just crying -- tears just coming out through the mask,',\n  'speaker': 'None',\n  'qids': None,\n  'date': '2020-03-30 00:00:00',\n  'numOccurrences': 3,\n  'urls': ['http://nordic.businessinsider.com/coronavirus-cnn-anchor-brought-to-tears-over-womans-facetime-story-2020-3',\n   'http://uk.businessinsider.com/coronavirus-cnn-anchor-brought-to-tears-over-womans-facetime-story-2020-3',\n   'http://feeds.businessinsider.com.au/~/620562506/0/businessinsideraustralia~A-FaceTime-call-was-all-a-woman-could-do-to-say-goodbye-to-her-dying-mother-because-of-coronavirus-protocols-It-brought-a-CNN-anchor-to-tears'],\n  'phase': 'E',\n  'speaker_prob': 0.8866,\n  'url_countries': ['US', 'AS']},\n {'quoteID': '2020-01-11-002445',\n  'quotation': 'And help he always did. For someone who preferred to be behind the scenes, he was at the center of absolutely everything.',\n  'speaker': 'Anna Wintour',\n  'qids': ['Q230744'],\n  'date': '2020-01-11 01:46:07',\n  'numOccurrences': 3,\n  'urls': ['https://www.irishmirror.ie/showbiz/celebrity-news/victoria-beckham-shares-heartbreak-death-21257757',\n   'https://www.mirror.co.uk/3am/celebrity-news/victoria-beckham-shares-heartbreak-death-21257731',\n   'https://www.celebsnow.co.uk/latest-celebrity-news/victoria-beckham-heartbreaking-message-death-friend-804378'],\n  'phase': 'E',\n  'speaker_prob': 0.9198,\n  'url_countries': ['EI', 'UK']},\n {'quoteID': '2020-01-21-005435',\n  'quotation': \"And the symptoms of what a person goes through when they have a brain tumour is nothing like what we've ever been through with her cancer before.\",\n  'speaker': 'Taylor Swift',\n  'qids': ['Q26876'],\n  'date': '2020-01-21 15:58:39',\n  'numOccurrences': 8,\n  'urls': ['https://www.irishmirror.ie/showbiz/celebrity-news/taylor-swift-heartbroken-mum-diagnosed-21328265',\n   'https://www.mirror.co.uk/3am/celebrity-news/taylor-swift-heartbroken-mum-diagnosed-21328054',\n   'https://www.nme.com/news/music/taylor-swift-says-her-mum-has-been-diagnosed-with-brain-tumour-its-been-a-really-hard-time-for-us-2599552',\n   'http://news.sky.com/story/taylor-swift-reveals-her-mother-has-been-diagnosed-with-a-brain-tumour-11914400',\n   'http://www.mix96.co.uk/news/showbiz/3029092/taylor-swift-reveals-her-mother-has-been-diagnosed-with-a-brain-tumour/',\n   'https://www.nme.com/news/music/taylor-swift-only-the-young-new-track-2599818',\n   'https://www.nme.com/news/music/taylor-swift-only-the-young-new-track-2599818?utm_source=rss&utm_medium=rss&utm_campaign=taylor-swift-only-the-young-new-track',\n   'http://www.officialcharts.com/chart-news/taylor-swift-to-release-new-song-only-the-young-alongside-netflix-documentary-miss-americana__28386/'],\n  'phase': 'E',\n  'speaker_prob': 0.6397,\n  'url_countries': ['EI', 'UK']})"
     },
     "execution_count": 10,
     "metadata": {},
     "output_type": "execute_result"
    }
   ],
   "source": [
    "ds1 = dataset.map(extract_probability_of_most_prob_speaker)\n",
    "ds2 = ds1.map(remove_probability_of_others_then_most)\n",
    "ds3 = ds2.map(extract_only_one_qid)\n",
    "ds4 = ds3.map(convert_domain_to_country, domains_by_country_dict)\n",
    "dataset = ds4\n",
    "dataset.filter(lambda quote: len(quote[\"url_countries\"])>1 if quote[\"url_countries\"] else 0 ).take(5)"
   ],
   "metadata": {
    "collapsed": false,
    "pycharm": {
     "name": "#%%\n"
    }
   }
  },
  {
   "cell_type": "code",
   "execution_count": 11,
   "outputs": [],
   "source": [
    "def flatten(record):\n",
    "    return {\n",
    "        \"quoteID\": record[\"quoteID\"],\n",
    "        \"quotation\": record[\"quotation\"],\n",
    "        \"speaker\": record[\"speaker\"],\n",
    "        \"qids\": record[\"qids\"],\n",
    "        \"date\": record[\"date\"],\n",
    "        \"numOccurrences\": record[\"numOccurrences\"],\n",
    "        \"urls\": record[\"urls\"],\n",
    "        \"phase\": record[\"phase\"],\n",
    "        \"speaker_prob\": record[\"speaker_prob\"],\n",
    "        \"url_countries\": record[\"url_countries\"],\n",
    "    }"
   ],
   "metadata": {
    "collapsed": false,
    "pycharm": {
     "name": "#%%\n"
    }
   }
  },
  {
   "cell_type": "code",
   "execution_count": 13,
   "outputs": [
    {
     "name": "stderr",
     "output_type": "stream",
     "text": [
      "distributed.nanny - WARNING - Worker exceeded 95% memory budget. Restarting\n",
      "distributed.nanny - WARNING - Restarting worker\n",
      "distributed.nanny - WARNING - Worker exceeded 95% memory budget. Restarting\n",
      "distributed.nanny - WARNING - Restarting worker\n",
      "distributed.nanny - WARNING - Worker exceeded 95% memory budget. Restarting\n",
      "distributed.nanny - WARNING - Restarting worker\n",
      "distributed.nanny - WARNING - Worker exceeded 95% memory budget. Restarting\n",
      "distributed.nanny - WARNING - Restarting worker\n",
      "distributed.nanny - WARNING - Worker exceeded 95% memory budget. Restarting\n",
      "distributed.nanny - WARNING - Restarting worker\n"
     ]
    },
    {
     "ename": "KilledWorker",
     "evalue": "(\"('bag-from-delayed-convert_domain_to_country-extract_only_one_qid-extract_probability_of_most_prob_speaker-file_to_bl--70f', 0)\", <WorkerState 'tcp://127.0.0.1:52237', name: 0, status: closed, memory: 0, processing: 1>)",
     "output_type": "error",
     "traceback": [
      "\u001B[1;31m---------------------------------------------------------------------------\u001B[0m",
      "\u001B[1;31mKilledWorker\u001B[0m                              Traceback (most recent call last)",
      "\u001B[1;32m<ipython-input-13-fc7909c2d43b>\u001B[0m in \u001B[0;36m<module>\u001B[1;34m\u001B[0m\n\u001B[0;32m      1\u001B[0m \u001B[0mdf\u001B[0m \u001B[1;33m=\u001B[0m \u001B[0mdataset\u001B[0m\u001B[1;33m.\u001B[0m\u001B[0mmap\u001B[0m\u001B[1;33m(\u001B[0m\u001B[0mflatten\u001B[0m\u001B[1;33m)\u001B[0m\u001B[1;33m.\u001B[0m\u001B[0mto_dataframe\u001B[0m\u001B[1;33m(\u001B[0m\u001B[1;33m)\u001B[0m\u001B[1;31m#.compute()\u001B[0m\u001B[1;33m\u001B[0m\u001B[1;33m\u001B[0m\u001B[0m\n\u001B[1;32m----> 2\u001B[1;33m \u001B[0mdf\u001B[0m \u001B[1;33m=\u001B[0m \u001B[0mdf\u001B[0m\u001B[1;33m.\u001B[0m\u001B[0mrepartition\u001B[0m\u001B[1;33m(\u001B[0m\u001B[0mnpartitions\u001B[0m\u001B[1;33m=\u001B[0m\u001B[1;36m10000\u001B[0m\u001B[1;33m)\u001B[0m\u001B[1;33m.\u001B[0m\u001B[0mcompute\u001B[0m\u001B[1;33m(\u001B[0m\u001B[1;33m)\u001B[0m\u001B[1;33m\u001B[0m\u001B[1;33m\u001B[0m\u001B[0m\n\u001B[0m\u001B[0;32m      3\u001B[0m \u001B[1;33m\u001B[0m\u001B[0m\n",
      "\u001B[1;32mc:\\users\\batuhanfaik\\projects\\ada-2021-project-hivemind\\env-hivemind\\lib\\site-packages\\dask\\base.py\u001B[0m in \u001B[0;36mcompute\u001B[1;34m(self, **kwargs)\u001B[0m\n\u001B[0;32m    286\u001B[0m         \u001B[0mdask\u001B[0m\u001B[1;33m.\u001B[0m\u001B[0mbase\u001B[0m\u001B[1;33m.\u001B[0m\u001B[0mcompute\u001B[0m\u001B[1;33m\u001B[0m\u001B[1;33m\u001B[0m\u001B[0m\n\u001B[0;32m    287\u001B[0m         \"\"\"\n\u001B[1;32m--> 288\u001B[1;33m         \u001B[1;33m(\u001B[0m\u001B[0mresult\u001B[0m\u001B[1;33m,\u001B[0m\u001B[1;33m)\u001B[0m \u001B[1;33m=\u001B[0m \u001B[0mcompute\u001B[0m\u001B[1;33m(\u001B[0m\u001B[0mself\u001B[0m\u001B[1;33m,\u001B[0m \u001B[0mtraverse\u001B[0m\u001B[1;33m=\u001B[0m\u001B[1;32mFalse\u001B[0m\u001B[1;33m,\u001B[0m \u001B[1;33m**\u001B[0m\u001B[0mkwargs\u001B[0m\u001B[1;33m)\u001B[0m\u001B[1;33m\u001B[0m\u001B[1;33m\u001B[0m\u001B[0m\n\u001B[0m\u001B[0;32m    289\u001B[0m         \u001B[1;32mreturn\u001B[0m \u001B[0mresult\u001B[0m\u001B[1;33m\u001B[0m\u001B[1;33m\u001B[0m\u001B[0m\n\u001B[0;32m    290\u001B[0m \u001B[1;33m\u001B[0m\u001B[0m\n",
      "\u001B[1;32mc:\\users\\batuhanfaik\\projects\\ada-2021-project-hivemind\\env-hivemind\\lib\\site-packages\\dask\\base.py\u001B[0m in \u001B[0;36mcompute\u001B[1;34m(*args, **kwargs)\u001B[0m\n\u001B[0;32m    568\u001B[0m         \u001B[0mpostcomputes\u001B[0m\u001B[1;33m.\u001B[0m\u001B[0mappend\u001B[0m\u001B[1;33m(\u001B[0m\u001B[0mx\u001B[0m\u001B[1;33m.\u001B[0m\u001B[0m__dask_postcompute__\u001B[0m\u001B[1;33m(\u001B[0m\u001B[1;33m)\u001B[0m\u001B[1;33m)\u001B[0m\u001B[1;33m\u001B[0m\u001B[1;33m\u001B[0m\u001B[0m\n\u001B[0;32m    569\u001B[0m \u001B[1;33m\u001B[0m\u001B[0m\n\u001B[1;32m--> 570\u001B[1;33m     \u001B[0mresults\u001B[0m \u001B[1;33m=\u001B[0m \u001B[0mschedule\u001B[0m\u001B[1;33m(\u001B[0m\u001B[0mdsk\u001B[0m\u001B[1;33m,\u001B[0m \u001B[0mkeys\u001B[0m\u001B[1;33m,\u001B[0m \u001B[1;33m**\u001B[0m\u001B[0mkwargs\u001B[0m\u001B[1;33m)\u001B[0m\u001B[1;33m\u001B[0m\u001B[1;33m\u001B[0m\u001B[0m\n\u001B[0m\u001B[0;32m    571\u001B[0m     \u001B[1;32mreturn\u001B[0m \u001B[0mrepack\u001B[0m\u001B[1;33m(\u001B[0m\u001B[1;33m[\u001B[0m\u001B[0mf\u001B[0m\u001B[1;33m(\u001B[0m\u001B[0mr\u001B[0m\u001B[1;33m,\u001B[0m \u001B[1;33m*\u001B[0m\u001B[0ma\u001B[0m\u001B[1;33m)\u001B[0m \u001B[1;32mfor\u001B[0m \u001B[0mr\u001B[0m\u001B[1;33m,\u001B[0m \u001B[1;33m(\u001B[0m\u001B[0mf\u001B[0m\u001B[1;33m,\u001B[0m \u001B[0ma\u001B[0m\u001B[1;33m)\u001B[0m \u001B[1;32min\u001B[0m \u001B[0mzip\u001B[0m\u001B[1;33m(\u001B[0m\u001B[0mresults\u001B[0m\u001B[1;33m,\u001B[0m \u001B[0mpostcomputes\u001B[0m\u001B[1;33m)\u001B[0m\u001B[1;33m]\u001B[0m\u001B[1;33m)\u001B[0m\u001B[1;33m\u001B[0m\u001B[1;33m\u001B[0m\u001B[0m\n\u001B[0;32m    572\u001B[0m \u001B[1;33m\u001B[0m\u001B[0m\n",
      "\u001B[1;32mc:\\users\\batuhanfaik\\projects\\ada-2021-project-hivemind\\env-hivemind\\lib\\site-packages\\distributed\\client.py\u001B[0m in \u001B[0;36mget\u001B[1;34m(self, dsk, keys, workers, allow_other_workers, resources, sync, asynchronous, direct, retries, priority, fifo_timeout, actors, **kwargs)\u001B[0m\n\u001B[0;32m   2720\u001B[0m                     \u001B[0mshould_rejoin\u001B[0m \u001B[1;33m=\u001B[0m \u001B[1;32mFalse\u001B[0m\u001B[1;33m\u001B[0m\u001B[1;33m\u001B[0m\u001B[0m\n\u001B[0;32m   2721\u001B[0m             \u001B[1;32mtry\u001B[0m\u001B[1;33m:\u001B[0m\u001B[1;33m\u001B[0m\u001B[1;33m\u001B[0m\u001B[0m\n\u001B[1;32m-> 2722\u001B[1;33m                 \u001B[0mresults\u001B[0m \u001B[1;33m=\u001B[0m \u001B[0mself\u001B[0m\u001B[1;33m.\u001B[0m\u001B[0mgather\u001B[0m\u001B[1;33m(\u001B[0m\u001B[0mpacked\u001B[0m\u001B[1;33m,\u001B[0m \u001B[0masynchronous\u001B[0m\u001B[1;33m=\u001B[0m\u001B[0masynchronous\u001B[0m\u001B[1;33m,\u001B[0m \u001B[0mdirect\u001B[0m\u001B[1;33m=\u001B[0m\u001B[0mdirect\u001B[0m\u001B[1;33m)\u001B[0m\u001B[1;33m\u001B[0m\u001B[1;33m\u001B[0m\u001B[0m\n\u001B[0m\u001B[0;32m   2723\u001B[0m             \u001B[1;32mfinally\u001B[0m\u001B[1;33m:\u001B[0m\u001B[1;33m\u001B[0m\u001B[1;33m\u001B[0m\u001B[0m\n\u001B[0;32m   2724\u001B[0m                 \u001B[1;32mfor\u001B[0m \u001B[0mf\u001B[0m \u001B[1;32min\u001B[0m \u001B[0mfutures\u001B[0m\u001B[1;33m.\u001B[0m\u001B[0mvalues\u001B[0m\u001B[1;33m(\u001B[0m\u001B[1;33m)\u001B[0m\u001B[1;33m:\u001B[0m\u001B[1;33m\u001B[0m\u001B[1;33m\u001B[0m\u001B[0m\n",
      "\u001B[1;32mc:\\users\\batuhanfaik\\projects\\ada-2021-project-hivemind\\env-hivemind\\lib\\site-packages\\distributed\\client.py\u001B[0m in \u001B[0;36mgather\u001B[1;34m(self, futures, errors, direct, asynchronous)\u001B[0m\n\u001B[0;32m   1975\u001B[0m             \u001B[1;32melse\u001B[0m\u001B[1;33m:\u001B[0m\u001B[1;33m\u001B[0m\u001B[1;33m\u001B[0m\u001B[0m\n\u001B[0;32m   1976\u001B[0m                 \u001B[0mlocal_worker\u001B[0m \u001B[1;33m=\u001B[0m \u001B[1;32mNone\u001B[0m\u001B[1;33m\u001B[0m\u001B[1;33m\u001B[0m\u001B[0m\n\u001B[1;32m-> 1977\u001B[1;33m             return self.sync(\n\u001B[0m\u001B[0;32m   1978\u001B[0m                 \u001B[0mself\u001B[0m\u001B[1;33m.\u001B[0m\u001B[0m_gather\u001B[0m\u001B[1;33m,\u001B[0m\u001B[1;33m\u001B[0m\u001B[1;33m\u001B[0m\u001B[0m\n\u001B[0;32m   1979\u001B[0m                 \u001B[0mfutures\u001B[0m\u001B[1;33m,\u001B[0m\u001B[1;33m\u001B[0m\u001B[1;33m\u001B[0m\u001B[0m\n",
      "\u001B[1;32mc:\\users\\batuhanfaik\\projects\\ada-2021-project-hivemind\\env-hivemind\\lib\\site-packages\\distributed\\client.py\u001B[0m in \u001B[0;36msync\u001B[1;34m(self, func, asynchronous, callback_timeout, *args, **kwargs)\u001B[0m\n\u001B[0;32m    863\u001B[0m             \u001B[1;32mreturn\u001B[0m \u001B[0mfuture\u001B[0m\u001B[1;33m\u001B[0m\u001B[1;33m\u001B[0m\u001B[0m\n\u001B[0;32m    864\u001B[0m         \u001B[1;32melse\u001B[0m\u001B[1;33m:\u001B[0m\u001B[1;33m\u001B[0m\u001B[1;33m\u001B[0m\u001B[0m\n\u001B[1;32m--> 865\u001B[1;33m             return sync(\n\u001B[0m\u001B[0;32m    866\u001B[0m                 \u001B[0mself\u001B[0m\u001B[1;33m.\u001B[0m\u001B[0mloop\u001B[0m\u001B[1;33m,\u001B[0m \u001B[0mfunc\u001B[0m\u001B[1;33m,\u001B[0m \u001B[1;33m*\u001B[0m\u001B[0margs\u001B[0m\u001B[1;33m,\u001B[0m \u001B[0mcallback_timeout\u001B[0m\u001B[1;33m=\u001B[0m\u001B[0mcallback_timeout\u001B[0m\u001B[1;33m,\u001B[0m \u001B[1;33m**\u001B[0m\u001B[0mkwargs\u001B[0m\u001B[1;33m\u001B[0m\u001B[1;33m\u001B[0m\u001B[0m\n\u001B[0;32m    867\u001B[0m             )\n",
      "\u001B[1;32mc:\\users\\batuhanfaik\\projects\\ada-2021-project-hivemind\\env-hivemind\\lib\\site-packages\\distributed\\utils.py\u001B[0m in \u001B[0;36msync\u001B[1;34m(loop, func, callback_timeout, *args, **kwargs)\u001B[0m\n\u001B[0;32m    325\u001B[0m     \u001B[1;32mif\u001B[0m \u001B[0merror\u001B[0m\u001B[1;33m[\u001B[0m\u001B[1;36m0\u001B[0m\u001B[1;33m]\u001B[0m\u001B[1;33m:\u001B[0m\u001B[1;33m\u001B[0m\u001B[1;33m\u001B[0m\u001B[0m\n\u001B[0;32m    326\u001B[0m         \u001B[0mtyp\u001B[0m\u001B[1;33m,\u001B[0m \u001B[0mexc\u001B[0m\u001B[1;33m,\u001B[0m \u001B[0mtb\u001B[0m \u001B[1;33m=\u001B[0m \u001B[0merror\u001B[0m\u001B[1;33m[\u001B[0m\u001B[1;36m0\u001B[0m\u001B[1;33m]\u001B[0m\u001B[1;33m\u001B[0m\u001B[1;33m\u001B[0m\u001B[0m\n\u001B[1;32m--> 327\u001B[1;33m         \u001B[1;32mraise\u001B[0m \u001B[0mexc\u001B[0m\u001B[1;33m.\u001B[0m\u001B[0mwith_traceback\u001B[0m\u001B[1;33m(\u001B[0m\u001B[0mtb\u001B[0m\u001B[1;33m)\u001B[0m\u001B[1;33m\u001B[0m\u001B[1;33m\u001B[0m\u001B[0m\n\u001B[0m\u001B[0;32m    328\u001B[0m     \u001B[1;32melse\u001B[0m\u001B[1;33m:\u001B[0m\u001B[1;33m\u001B[0m\u001B[1;33m\u001B[0m\u001B[0m\n\u001B[0;32m    329\u001B[0m         \u001B[1;32mreturn\u001B[0m \u001B[0mresult\u001B[0m\u001B[1;33m[\u001B[0m\u001B[1;36m0\u001B[0m\u001B[1;33m]\u001B[0m\u001B[1;33m\u001B[0m\u001B[1;33m\u001B[0m\u001B[0m\n",
      "\u001B[1;32mc:\\users\\batuhanfaik\\projects\\ada-2021-project-hivemind\\env-hivemind\\lib\\site-packages\\distributed\\utils.py\u001B[0m in \u001B[0;36mf\u001B[1;34m()\u001B[0m\n\u001B[0;32m    308\u001B[0m             \u001B[1;32mif\u001B[0m \u001B[0mcallback_timeout\u001B[0m \u001B[1;32mis\u001B[0m \u001B[1;32mnot\u001B[0m \u001B[1;32mNone\u001B[0m\u001B[1;33m:\u001B[0m\u001B[1;33m\u001B[0m\u001B[1;33m\u001B[0m\u001B[0m\n\u001B[0;32m    309\u001B[0m                 \u001B[0mfuture\u001B[0m \u001B[1;33m=\u001B[0m \u001B[0masyncio\u001B[0m\u001B[1;33m.\u001B[0m\u001B[0mwait_for\u001B[0m\u001B[1;33m(\u001B[0m\u001B[0mfuture\u001B[0m\u001B[1;33m,\u001B[0m \u001B[0mcallback_timeout\u001B[0m\u001B[1;33m)\u001B[0m\u001B[1;33m\u001B[0m\u001B[1;33m\u001B[0m\u001B[0m\n\u001B[1;32m--> 310\u001B[1;33m             \u001B[0mresult\u001B[0m\u001B[1;33m[\u001B[0m\u001B[1;36m0\u001B[0m\u001B[1;33m]\u001B[0m \u001B[1;33m=\u001B[0m \u001B[1;32myield\u001B[0m \u001B[0mfuture\u001B[0m\u001B[1;33m\u001B[0m\u001B[1;33m\u001B[0m\u001B[0m\n\u001B[0m\u001B[0;32m    311\u001B[0m         \u001B[1;32mexcept\u001B[0m \u001B[0mException\u001B[0m\u001B[1;33m:\u001B[0m\u001B[1;33m\u001B[0m\u001B[1;33m\u001B[0m\u001B[0m\n\u001B[0;32m    312\u001B[0m             \u001B[0merror\u001B[0m\u001B[1;33m[\u001B[0m\u001B[1;36m0\u001B[0m\u001B[1;33m]\u001B[0m \u001B[1;33m=\u001B[0m \u001B[0msys\u001B[0m\u001B[1;33m.\u001B[0m\u001B[0mexc_info\u001B[0m\u001B[1;33m(\u001B[0m\u001B[1;33m)\u001B[0m\u001B[1;33m\u001B[0m\u001B[1;33m\u001B[0m\u001B[0m\n",
      "\u001B[1;32mc:\\users\\batuhanfaik\\projects\\ada-2021-project-hivemind\\env-hivemind\\lib\\site-packages\\tornado\\gen.py\u001B[0m in \u001B[0;36mrun\u001B[1;34m(self)\u001B[0m\n\u001B[0;32m    760\u001B[0m \u001B[1;33m\u001B[0m\u001B[0m\n\u001B[0;32m    761\u001B[0m                     \u001B[1;32mtry\u001B[0m\u001B[1;33m:\u001B[0m\u001B[1;33m\u001B[0m\u001B[1;33m\u001B[0m\u001B[0m\n\u001B[1;32m--> 762\u001B[1;33m                         \u001B[0mvalue\u001B[0m \u001B[1;33m=\u001B[0m \u001B[0mfuture\u001B[0m\u001B[1;33m.\u001B[0m\u001B[0mresult\u001B[0m\u001B[1;33m(\u001B[0m\u001B[1;33m)\u001B[0m\u001B[1;33m\u001B[0m\u001B[1;33m\u001B[0m\u001B[0m\n\u001B[0m\u001B[0;32m    763\u001B[0m                     \u001B[1;32mexcept\u001B[0m \u001B[0mException\u001B[0m\u001B[1;33m:\u001B[0m\u001B[1;33m\u001B[0m\u001B[1;33m\u001B[0m\u001B[0m\n\u001B[0;32m    764\u001B[0m                         \u001B[0mexc_info\u001B[0m \u001B[1;33m=\u001B[0m \u001B[0msys\u001B[0m\u001B[1;33m.\u001B[0m\u001B[0mexc_info\u001B[0m\u001B[1;33m(\u001B[0m\u001B[1;33m)\u001B[0m\u001B[1;33m\u001B[0m\u001B[1;33m\u001B[0m\u001B[0m\n",
      "\u001B[1;32mc:\\users\\batuhanfaik\\projects\\ada-2021-project-hivemind\\env-hivemind\\lib\\site-packages\\distributed\\client.py\u001B[0m in \u001B[0;36m_gather\u001B[1;34m(self, futures, errors, direct, local_worker)\u001B[0m\n\u001B[0;32m   1840\u001B[0m                             \u001B[0mexc\u001B[0m \u001B[1;33m=\u001B[0m \u001B[0mCancelledError\u001B[0m\u001B[1;33m(\u001B[0m\u001B[0mkey\u001B[0m\u001B[1;33m)\u001B[0m\u001B[1;33m\u001B[0m\u001B[1;33m\u001B[0m\u001B[0m\n\u001B[0;32m   1841\u001B[0m                         \u001B[1;32melse\u001B[0m\u001B[1;33m:\u001B[0m\u001B[1;33m\u001B[0m\u001B[1;33m\u001B[0m\u001B[0m\n\u001B[1;32m-> 1842\u001B[1;33m                             \u001B[1;32mraise\u001B[0m \u001B[0mexception\u001B[0m\u001B[1;33m.\u001B[0m\u001B[0mwith_traceback\u001B[0m\u001B[1;33m(\u001B[0m\u001B[0mtraceback\u001B[0m\u001B[1;33m)\u001B[0m\u001B[1;33m\u001B[0m\u001B[1;33m\u001B[0m\u001B[0m\n\u001B[0m\u001B[0;32m   1843\u001B[0m                         \u001B[1;32mraise\u001B[0m \u001B[0mexc\u001B[0m\u001B[1;33m\u001B[0m\u001B[1;33m\u001B[0m\u001B[0m\n\u001B[0;32m   1844\u001B[0m                     \u001B[1;32mif\u001B[0m \u001B[0merrors\u001B[0m \u001B[1;33m==\u001B[0m \u001B[1;34m\"skip\"\u001B[0m\u001B[1;33m:\u001B[0m\u001B[1;33m\u001B[0m\u001B[1;33m\u001B[0m\u001B[0m\n",
      "\u001B[1;31mKilledWorker\u001B[0m: (\"('bag-from-delayed-convert_domain_to_country-extract_only_one_qid-extract_probability_of_most_prob_speaker-file_to_bl--70f', 0)\", <WorkerState 'tcp://127.0.0.1:52237', name: 0, status: closed, memory: 0, processing: 1>)"
     ]
    }
   ],
   "source": [
    "df = dataset.map(flatten).to_dataframe()#.compute()\n",
    "df = df.repartition(npartitions=10000).compute()"
   ],
   "metadata": {
    "collapsed": false,
    "pycharm": {
     "name": "#%%\n"
    }
   }
  },
  {
   "cell_type": "code",
   "execution_count": null,
   "outputs": [],
   "source": [
    "print(len(df))"
   ],
   "metadata": {
    "collapsed": false,
    "pycharm": {
     "name": "#%%\n"
    }
   }
  }
 ],
 "metadata": {
  "kernelspec": {
   "display_name": "Python 3",
   "language": "python",
   "name": "python3"
  },
  "language_info": {
   "codemirror_mode": {
    "name": "ipython",
    "version": 2
   },
   "file_extension": ".py",
   "mimetype": "text/x-python",
   "name": "python",
   "nbconvert_exporter": "python",
   "pygments_lexer": "ipython2",
   "version": "2.7.6"
  }
 },
 "nbformat": 4,
 "nbformat_minor": 0
}