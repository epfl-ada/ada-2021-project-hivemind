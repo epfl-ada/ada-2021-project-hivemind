{
 "cells": [
  {
   "cell_type": "markdown",
   "source": [
    "# Quotebank Exploratory Data Analysis\n",
    "\n",
    "TODO add description"
   ],
   "metadata": {
    "collapsed": false,
    "pycharm": {
     "name": "#%% md\n"
    }
   }
  },
  {
   "cell_type": "markdown",
   "source": [
    "## Dataset loading"
   ],
   "metadata": {
    "collapsed": false
   }
  },
  {
   "cell_type": "code",
   "execution_count": null,
   "metadata": {
    "collapsed": true
   },
   "outputs": [],
   "source": [
    "import os\n",
    "import json\n",
    "import csv\n",
    "import tld\n",
    "import re\n",
    "import pandas as pd\n",
    "import numpy as np\n",
    "import matplotlib.pyplot as plt\n",
    "import matplotlib.dates as mdates\n",
    "import seaborn as sns"
   ]
  },
  {
   "cell_type": "code",
   "execution_count": null,
   "outputs": [],
   "source": [
    "from dask.distributed import Client\n",
    "import dask.bag as db\n",
    "import dask.dataframe as dd\n",
    "\n",
    "client = Client(n_workers=2, threads_per_worker=2, memory_limit='6GB')"
   ],
   "metadata": {
    "collapsed": false,
    "pycharm": {
     "name": "#%%\n"
    }
   }
  },
  {
   "cell_type": "code",
   "execution_count": null,
   "outputs": [],
   "source": [
    "DATASET_PATH = \"datasets\"\n",
    "\n",
    "filename = \"quotes-2020.parquet\"\n",
    "\n",
    "dataset = dd.read_parquet(os.path.join(DATASET_PATH, filename))"
   ],
   "metadata": {
    "collapsed": false,
    "pycharm": {
     "name": "#%%\n"
    }
   }
  },
  {
   "cell_type": "code",
   "execution_count": null,
   "outputs": [],
   "source": [
    "# Convert date column to datetime objects\n",
    "dataset[\"date\"] = dd.to_datetime(dataset[\"date\"])"
   ],
   "metadata": {
    "collapsed": false,
    "pycharm": {
     "name": "#%%\n"
    }
   }
  },
  {
   "cell_type": "code",
   "execution_count": null,
   "outputs": [],
   "source": [
    "# Print the dataset\n",
    "dataset.head(10)"
   ],
   "metadata": {
    "collapsed": false,
    "pycharm": {
     "name": "#%%\n"
    }
   }
  },
  {
   "cell_type": "markdown",
   "source": [
    "## Number of quotes per day"
   ],
   "metadata": {
    "collapsed": false,
    "pycharm": {
     "name": "#%% md\n"
    }
   }
  },
  {
   "cell_type": "code",
   "execution_count": null,
   "outputs": [],
   "source": [
    "ds_by_day = dataset.set_index(\"date\").resample(\"1D\")\n",
    "number_of_quotes_per_day = ds_by_day.size().compute()"
   ],
   "metadata": {
    "collapsed": false,
    "pycharm": {
     "name": "#%%\n"
    }
   }
  },
  {
   "cell_type": "code",
   "execution_count": null,
   "outputs": [],
   "source": [
    "fig, ax = plt.subplots(1, figsize=(12, 8))\n",
    "ax.set_title(\"Number of Quotes per Day\")\n",
    "\n",
    "# Major ticks every week.\n",
    "fmt_week = mdates.WeekdayLocator(interval=1)\n",
    "ax.xaxis.set_major_locator(fmt_week)\n",
    "\n",
    "# Minor ticks every day.\n",
    "fmt_day = mdates.DayLocator(interval=1)\n",
    "ax.xaxis.set_minor_locator(fmt_day)\n",
    "\n",
    "# Text in the x axis will be displayed in 'YYYY-mm-dd' format.\n",
    "ax.xaxis.set_major_formatter(mdates.DateFormatter(\"%Y-%m-%d\"))\n",
    "\n",
    "# Round to nearest months.\n",
    "datemin = np.datetime64(number_of_quotes_per_day.index[0], 'W')\n",
    "datemax = np.datetime64(number_of_quotes_per_day.index[-1], 'W') + np.timedelta64(1, 'W')\n",
    "ax.set_xlim(datemin, datemax)\n",
    "ax.grid(True)\n",
    "ax.plot(number_of_quotes_per_day, c=\"r\", linewidth=1, alpha=0.75, marker=\"o\", linestyle=\"--\", markersize=5)\n",
    "\n",
    "# Rotates and right aligns the x labels, and moves the bottom of the\n",
    "# axes up to make room for them.\n",
    "fig.autofmt_xdate()"
   ],
   "metadata": {
    "collapsed": false,
    "pycharm": {
     "name": "#%%\n"
    }
   }
  },
  {
   "cell_type": "markdown",
   "source": [
    "Why is there a sharp decrease in the middle of each week. Is it because of the weekdays/weekends?"
   ],
   "metadata": {
    "collapsed": false,
    "pycharm": {
     "name": "#%% md\n"
    }
   }
  },
  {
   "cell_type": "code",
   "execution_count": null,
   "outputs": [],
   "source": [
    "dataset[\"day_of_week\"] = dataset[\"date\"].dt.day_name()\n",
    "ds_by_weekdays = dataset.groupby(dataset[\"day_of_week\"])\n",
    "number_of_quotes_per_weekday = ds_by_weekdays.size().compute()"
   ],
   "metadata": {
    "collapsed": false,
    "pycharm": {
     "name": "#%%\n"
    }
   }
  },
  {
   "cell_type": "code",
   "execution_count": null,
   "outputs": [],
   "source": [
    "# Sort the index by the day of the week\n",
    "days_of_week = ['Monday', 'Tuesday', 'Wednesday', 'Thursday', 'Friday', 'Saturday', 'Sunday']\n",
    "day_type = (days_of_week[:5], days_of_week[5:])\n",
    "\n",
    "mapping = {day: i for i, day in enumerate(reversed(days_of_week))}\n",
    "key = number_of_quotes_per_weekday.index.map(mapping)\n",
    "number_of_quotes_per_weekday = number_of_quotes_per_weekday.iloc[key.argsort()]\n",
    "\n",
    "fig, ax = plt.subplots(1, 2, figsize=(16, 8))\n",
    "ax[0].set_title(\"Number of Quotes per Weekday\", fontsize=12)\n",
    "ax[1].set_title(\"Percent of Quotes per Day Type\", fontsize=12)\n",
    "fig.suptitle(\"Day of the Week Analysis\", fontsize=16)\n",
    "\n",
    "colors = [\"#7DBBC3\", \"#7DBBC3\", \"#F4B9B2\", \"#F4B9B2\", \"#F4B9B2\", \"#F4B9B2\", \"#F4B9B2\"]\n",
    "ax[0].barh(number_of_quotes_per_weekday.index, number_of_quotes_per_weekday, edgecolor=\"black\", color=colors)\n",
    "\n",
    "ax[1].pie([number_of_quotes_per_weekday.loc[x].mean() for x in day_type], labels=[\"Weekdays\", \"Weekends\"], autopct='%.1f%%', shadow=True, startangle=90, colors=[\"#F4B9B2\", \"#7DBBC3\"], wedgeprops={'linewidth': 3.0, 'edgecolor': 'white'}, explode=(0, 0.1))\n",
    "plt.tight_layout()"
   ],
   "metadata": {
    "collapsed": false,
    "pycharm": {
     "name": "#%%\n"
    }
   }
  },
  {
   "cell_type": "markdown",
   "source": [
    "Aha, we were right! Apparently many people decide to stay silent during the weekend."
   ],
   "metadata": {
    "collapsed": false
   }
  },
  {
   "cell_type": "markdown",
   "source": [
    "Let's explore the trends"
   ],
   "metadata": {
    "collapsed": false
   }
  },
  {
   "cell_type": "code",
   "execution_count": null,
   "outputs": [],
   "source": [
    "quote_trends_daily = pd.DataFrame({\"n_quotes\": number_of_quotes_per_day}, index=number_of_quotes_per_day.index)\n",
    "quote_trends_7 = quote_trends_daily[\"n_quotes\"].rolling(window=7, center=True, min_periods=5).mean()\n",
    "quote_trends_30 = quote_trends_daily[\"n_quotes\"].rolling(window=30, center=True, min_periods=20).mean()"
   ],
   "metadata": {
    "collapsed": false,
    "pycharm": {
     "name": "#%%\n"
    }
   }
  },
  {
   "cell_type": "code",
   "execution_count": null,
   "outputs": [],
   "source": [
    "# Plot daily, 7-day rolling mean, and 30-day rolling mean\n",
    "fig, ax = plt.subplots(1, figsize=(12, 8))\n",
    "ax.plot(number_of_quotes_per_day, marker=\".\", markersize=4.5, color=\"0.45\", linestyle=\"dotted\", label=\"Daily\")\n",
    "ax.plot(quote_trends_7, linewidth=2, label='7-d Rolling Mean', color=\"b\")\n",
    "ax.plot(quote_trends_30, color=\"0.2\", linewidth=3, label=\"Trend (30-d Rolling Mean)\")\n",
    "\n",
    "# Major ticks every week.\n",
    "fmt_week = mdates.WeekdayLocator(interval=1)\n",
    "ax.xaxis.set_major_locator(fmt_week)\n",
    "\n",
    "# Minor ticks every day.\n",
    "fmt_day = mdates.DayLocator(interval=1)\n",
    "ax.xaxis.set_minor_locator(fmt_day)\n",
    "\n",
    "# Text in the x axis will be displayed in 'YYYY-mm-dd' format.\n",
    "ax.xaxis.set_major_formatter(mdates.DateFormatter(\"%Y-%m-%d\"))\n",
    "\n",
    "ax.legend()\n",
    "ax.grid(True, linewidth=0.5, linestyle=\"--\")\n",
    "ax.set_xlabel(\"Date\")\n",
    "ax.set_ylabel(\"Number of Quotes\")\n",
    "ax.set_title(\"Trends in Number of Quotes\")\n",
    "\n",
    "# Rotates and right aligns the x labels, and moves the bottom of the\n",
    "# axes up to make room for them.\n",
    "fig.autofmt_xdate()"
   ],
   "metadata": {
    "collapsed": false,
    "pycharm": {
     "name": "#%%\n"
    }
   }
  },
  {
   "cell_type": "markdown",
   "source": [
    "## Number of quote occurrences\n",
    "\n",
    "TODO: Explore the number of occurrences"
   ],
   "metadata": {
    "collapsed": false,
    "pycharm": {
     "name": "#%% md\n"
    }
   }
  },
  {
   "cell_type": "code",
   "execution_count": null,
   "outputs": [],
   "source": [
    "fig, ax = plt.subplots(1, figsize=(12, 8))\n",
    "sns.boxplot(x=dataset[\"numOccurrences\"].astype(np.int64))\n",
    "plt.show()\n"
   ],
   "metadata": {
    "collapsed": false,
    "pycharm": {
     "name": "#%%\n"
    }
   }
  },
  {
   "cell_type": "markdown",
   "source": [
    "Woah! So many outliers... Or are they really outliers?"
   ],
   "metadata": {
    "collapsed": false,
    "pycharm": {
     "name": "#%% md\n"
    }
   }
  },
  {
   "cell_type": "code",
   "execution_count": null,
   "outputs": [],
   "source": [
    "fig, ax = plt.subplots(1, figsize=(12, 8))\n",
    "hist, bins = np.histogram(dataset[\"numOccurrences\"].astype(np.int64), bins=16)\n",
    "log_bins = np.logspace(np.log10(bins[0]), np.log10(bins[-1]), len(bins))\n",
    "plt.hist(dataset[\"numOccurrences\"].astype(np.int64), bins=log_bins)\n",
    "plt.xscale('log')\n",
    "plt.show()"
   ],
   "metadata": {
    "collapsed": false,
    "pycharm": {
     "name": "#%%\n"
    }
   }
  },
  {
   "cell_type": "markdown",
   "source": [
    "TODO Comment if these are outliers. I believe they are but that is okay -- they might just be very popular or in some way important. Understand which quotes are sooo quoted (print the top ~20)."
   ],
   "metadata": {
    "collapsed": false
   }
  },
  {
   "cell_type": "markdown",
   "source": [
    "## Speaker probabilities\n",
    "\n",
    "TODO: Explore speaker probabilities"
   ],
   "metadata": {
    "collapsed": false
   }
  },
  {
   "cell_type": "code",
   "execution_count": null,
   "outputs": [],
   "source": [
    "fig, ax = plt.subplots(1, figsize=(12, 8))\n",
    "sns.boxplot(x=dataset[\"speaker_prob\"].astype(np.float64))\n",
    "plt.show()"
   ],
   "metadata": {
    "collapsed": false,
    "pycharm": {
     "name": "#%%\n"
    }
   }
  },
  {
   "cell_type": "code",
   "execution_count": null,
   "outputs": [],
   "source": [
    "fig, ax = plt.subplots(1, figsize=(12, 8))\n",
    "ax.hist(dataset[\"speaker_prob\"].astype(np.float64), bins=25)\n",
    "plt.show()"
   ],
   "metadata": {
    "collapsed": false,
    "pycharm": {
     "name": "#%%\n"
    }
   }
  },
  {
   "cell_type": "markdown",
   "source": [
    "## Lenght of the quote\n",
    "\n",
    "TODO: Explore the length of the quote"
   ],
   "metadata": {
    "collapsed": false
   }
  },
  {
   "cell_type": "code",
   "execution_count": null,
   "outputs": [],
   "source": [
    "# Get the number of words per quote\n",
    "dataset[\"n_word\"] = dataset.apply(lambda x: len(re.compile(r'\\w+').findall(x[\"quotation\"])), axis=1, meta=\"np.int64\")"
   ],
   "metadata": {
    "collapsed": false,
    "pycharm": {
     "name": "#%%\n"
    }
   }
  },
  {
   "cell_type": "code",
   "execution_count": null,
   "outputs": [],
   "source": [
    "fig, ax = plt.subplots(1, figsize=(12, 8))\n",
    "sns.boxplot(x=dataset[\"n_word\"])\n",
    "plt.show()"
   ],
   "metadata": {
    "collapsed": false,
    "pycharm": {
     "name": "#%%\n"
    }
   }
  },
  {
   "cell_type": "code",
   "execution_count": null,
   "outputs": [],
   "source": [
    "fig, ax = plt.subplots(1, figsize=(12, 8))\n",
    "ax.hist(dataset[\"n_word\"], bins=25)\n",
    "plt.show()"
   ],
   "metadata": {
    "collapsed": false,
    "pycharm": {
     "name": "#%%\n"
    }
   }
  },
  {
   "cell_type": "markdown",
   "source": [
    "## Missing values\n",
    "\n",
    "TODO"
   ],
   "metadata": {
    "collapsed": false,
    "pycharm": {
     "name": "#%% md\n"
    }
   }
  },
  {
   "cell_type": "markdown",
   "source": [
    "## Haiti earthquake case-study\n",
    "\n",
    "TODO"
   ],
   "metadata": {
    "collapsed": false,
    "pycharm": {
     "name": "#%% md\n"
    }
   }
  },
  {
   "cell_type": "markdown",
   "source": [
    "## Phases\n",
    "\n",
    "TODO comment a bit on the phases. consult and copy-paste key info from <https://github.com/epfl-dlab/Quotebank/blob/main/phases.md>). show that we are aware of the phases and how we took care of them"
   ],
   "metadata": {
    "collapsed": false
   }
  },
  {
   "cell_type": "markdown",
   "source": [
    "## Quote language\n",
    "\n",
    "TODO check that the quote language is english. Make sure there is no chinese etc. consider dropping non-english quotes because we would prefer to train NLP models that understand only english (for convenience and perhaps feasibility)"
   ],
   "metadata": {
    "collapsed": false
   }
  },
  {
   "cell_type": "markdown",
   "source": [
    "## Quote cleaning\n",
    "\n",
    "TODO Lowercase everything, handle special characters\n",
    "\n",
    "TODO Not sure if this should be done before EDA or after..."
   ],
   "metadata": {
    "collapsed": false,
    "pycharm": {
     "name": "#%% md\n"
    }
   }
  },
  {
   "cell_type": "markdown",
   "source": [
    "## Newsportal country distribution\n",
    "\n",
    "We want to understand from which countries the quotes we are wokring with are comming from\n",
    "\n",
    "TODO visualize number of quotes per country on a world heatmap\n",
    "\n",
    "TODO not sure which\n"
   ],
   "metadata": {
    "collapsed": false
   }
  }
 ],
 "metadata": {
  "kernelspec": {
   "display_name": "Python 3",
   "language": "python",
   "name": "python3"
  },
  "language_info": {
   "codemirror_mode": {
    "name": "ipython",
    "version": 2
   },
   "file_extension": ".py",
   "mimetype": "text/x-python",
   "name": "python",
   "nbconvert_exporter": "python",
   "pygments_lexer": "ipython2",
   "version": "2.7.6"
  }
 },
 "nbformat": 4,
 "nbformat_minor": 0
}