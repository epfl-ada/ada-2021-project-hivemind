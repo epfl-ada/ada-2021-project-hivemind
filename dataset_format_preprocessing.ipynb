{
 "cells": [
  {
   "cell_type": "code",
   "execution_count": 2,
   "metadata": {},
   "outputs": [],
   "source": [
    "import dask.bag as db\n",
    "import dask.dataframe as df\n",
    "import json"
   ]
  },
  {
   "cell_type": "code",
   "execution_count": 3,
   "metadata": {},
   "outputs": [],
   "source": [
    "dataset_year = 2008\n",
    "filename = f\"quotes-{dataset_year}.json\"\n",
    "dataset = db.read_text(f\"../quotebank/raw/{filename}\", blocksize=150e6).map(json.loads)"
   ]
  },
  {
   "cell_type": "code",
   "execution_count": 4,
   "metadata": {},
   "outputs": [],
   "source": [
    "def remove_probability_of_others_then_most(quote):\n",
    "    del quote[\"probas\"]\n",
    "    return quote"
   ]
  },
  {
   "cell_type": "code",
   "execution_count": 5,
   "metadata": {},
   "outputs": [],
   "source": [
    "def extract_probability_of_most_prob_speaker(quote):\n",
    "    quote[\"speaker_prob\"] = float(quote[\"probas\"][0][1])\n",
    "    return quote"
   ]
  },
  {
   "cell_type": "code",
   "execution_count": 6,
   "metadata": {},
   "outputs": [],
   "source": [
    "def extract_only_one_qid(quote):\n",
    "    quote = quote.copy()\n",
    "    if len(quote[\"qids\"]) == 0:\n",
    "        quote[\"qids\"] = None\n",
    "    elif len(quote[\"qids\"]) == 1:\n",
    "        quote[\"qids\"] = quote[\"qids\"][0]\n",
    "    else:\n",
    "        quote[\"qids\"] = \"Multiple\"\n",
    "    return quote"
   ]
  },
  {
   "cell_type": "code",
   "execution_count": 7,
   "metadata": {},
   "outputs": [],
   "source": [
    "import csv"
   ]
  },
  {
   "cell_type": "code",
   "execution_count": 8,
   "metadata": {},
   "outputs": [],
   "source": [
    "domains_by_country_dict = {}\n",
    "\n",
    "with open('datasets/GDELTDOMAINSBYCOUNTRY-MAY2018.TXT') as csvfile:\n",
    "    reader = csv.reader(csvfile, delimiter='\\t')\n",
    "    next(reader, None) # skip header\n",
    "    domains_by_country_dict = {rows[0]:rows[1] for rows in reader}\n",
    "    "
   ]
  },
  {
   "cell_type": "code",
   "execution_count": 9,
   "metadata": {},
   "outputs": [],
   "source": [
    "import tld"
   ]
  },
  {
   "cell_type": "code",
   "execution_count": 10,
   "metadata": {},
   "outputs": [],
   "source": [
    "def convert_domain_to_country(quote, domains_by_country_dict):\n",
    "    #add countries list to data based on the GDELT dataset\n",
    "    countries_set = set()\n",
    "    for url in quote[\"urls\"]:\n",
    "        domain_name = tld.get_fld(url)\n",
    "        if domain_name in domains_by_country_dict:\n",
    "            countries_set.add(domains_by_country_dict[domain_name])\n",
    "    quote[\"url_countries\"] = list(countries_set) if len(countries_set) != 0  else None\n",
    "    return quote\n"
   ]
  },
  {
   "cell_type": "code",
   "execution_count": 11,
   "metadata": {},
   "outputs": [],
   "source": [
    "dataframe = dataset.map(extract_probability_of_most_prob_speaker) \\\n",
    "                   .map(remove_probability_of_others_then_most) \\\n",
    "                   .map(extract_only_one_qid) \\\n",
    "                   .map(convert_domain_to_country, domains_by_country_dict) \\\n",
    "                   .to_dataframe().persist()"
   ]
  },
  {
   "cell_type": "code",
   "execution_count": 12,
   "metadata": {},
   "outputs": [
    {
     "data": {
      "text/plain": [
       "[None]"
      ]
     },
     "execution_count": 12,
     "metadata": {},
     "output_type": "execute_result"
    }
   ],
   "source": [
    "dataframe.to_parquet(f\"../quotebank/parquet/quotes-{dataset_year}.parquet\")"
   ]
  },
  {
   "cell_type": "code",
   "execution_count": 13,
   "metadata": {},
   "outputs": [
    {
     "data": {
      "text/plain": [
       "quoteID           4641330\n",
       "quotation         4641330\n",
       "speaker           4641330\n",
       "qids              4198748\n",
       "date              4641330\n",
       "numOccurrences    4641330\n",
       "urls              4641330\n",
       "phase             4641330\n",
       "speaker_prob      4641330\n",
       "url_countries     4617942\n",
       "dtype: int64"
      ]
     },
     "execution_count": 13,
     "metadata": {},
     "output_type": "execute_result"
    }
   ],
   "source": [
    "df.read_parquet(f\"../quotebank/parquet/quotes-{dataset_year}.parquet\").count().compute()"
   ]
  },
  {
   "cell_type": "code",
   "execution_count": 14,
   "metadata": {},
   "outputs": [
    {
     "data": {
      "text/plain": [
       "quoteID           4641330\n",
       "quotation         4641330\n",
       "speaker           4641330\n",
       "qids              4198748\n",
       "date              4641330\n",
       "numOccurrences    4641330\n",
       "urls              4641330\n",
       "phase             4641330\n",
       "speaker_prob      4641330\n",
       "url_countries     4617942\n",
       "dtype: int64"
      ]
     },
     "execution_count": 14,
     "metadata": {},
     "output_type": "execute_result"
    }
   ],
   "source": [
    "dataframe.count().compute()"
   ]
  }
 ],
 "metadata": {
  "kernelspec": {
   "display_name": "Python 3 (ipykernel)",
   "language": "python",
   "name": "python3"
  },
  "language_info": {
   "codemirror_mode": {
    "name": "ipython",
    "version": 3
   },
   "file_extension": ".py",
   "mimetype": "text/x-python",
   "name": "python",
   "nbconvert_exporter": "python",
   "pygments_lexer": "ipython3",
   "version": "3.9.7"
  }
 },
 "nbformat": 4,
 "nbformat_minor": 4
}
