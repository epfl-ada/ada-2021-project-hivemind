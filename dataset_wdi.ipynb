{
 "cells": [
  {
   "cell_type": "code",
   "execution_count": 1,
   "outputs": [],
   "source": [
    "%config Completer.use_jedi = False"
   ],
   "metadata": {
    "collapsed": false,
    "pycharm": {
     "name": "#%%\n"
    }
   }
  },
  {
   "cell_type": "markdown",
   "source": [
    "# World Development Indicators\n",
    "\n",
    "To supplement the disaster dataset, we have selected 55 different world development indicators from the [World Data Bank](https://databank.worldbank.org/source/world-development-indicators). We took the per-year data from year 2000 to year 2020 and for all available countries. Detailed indicator description is given in the metadata csv file `databank_wdi_metadata.csv`, including the source, unit of measure, periodicity, aggregation method, statistical concept and methodology, development relevance and limitations. Raw data is saved in `databank_wdi_data.csv`, with the preprocessed dataset created in this notebook saved in `databank_wdi_data_clean.csv`. Cheers."
   ],
   "metadata": {
    "collapsed": false
   }
  },
  {
   "cell_type": "code",
   "execution_count": 2,
   "outputs": [],
   "source": [
    "import numpy as np\n",
    "import pandas as pd\n",
    "\n",
    "pd.set_option(\"display.precision\", 2)"
   ],
   "metadata": {
    "collapsed": false,
    "pycharm": {
     "name": "#%%\n"
    }
   }
  },
  {
   "cell_type": "code",
   "execution_count": 3,
   "outputs": [
    {
     "name": "stdout",
     "output_type": "stream",
     "text": [
      "<class 'pandas.core.frame.DataFrame'>\n",
      "RangeIndex: 11935 entries, 0 to 11934\n",
      "Data columns (total 25 columns):\n",
      " #   Column          Non-Null Count  Dtype  \n",
      "---  ------          --------------  -----  \n",
      " 0   country_name    11935 non-null  object \n",
      " 1   country_code    11935 non-null  object \n",
      " 2   indicator_name  11935 non-null  object \n",
      " 3   indicator_code  11935 non-null  object \n",
      " 4   2000            7691 non-null   float64\n",
      " 5   2001            7552 non-null   float64\n",
      " 6   2002            8042 non-null   float64\n",
      " 7   2003            7853 non-null   float64\n",
      " 8   2004            8113 non-null   float64\n",
      " 9   2005            8230 non-null   float64\n",
      " 10  2006            8253 non-null   float64\n",
      " 11  2007            8668 non-null   float64\n",
      " 12  2008            8303 non-null   float64\n",
      " 13  2009            8369 non-null   float64\n",
      " 14  2010            8444 non-null   float64\n",
      " 15  2011            8447 non-null   float64\n",
      " 16  2012            8868 non-null   float64\n",
      " 17  2013            8436 non-null   float64\n",
      " 18  2014            8548 non-null   float64\n",
      " 19  2015            8272 non-null   float64\n",
      " 20  2016            8421 non-null   float64\n",
      " 21  2017            8709 non-null   float64\n",
      " 22  2018            8258 non-null   float64\n",
      " 23  2019            7227 non-null   float64\n",
      " 24  2020            4176 non-null   float64\n",
      "dtypes: float64(21), object(4)\n",
      "memory usage: 2.3+ MB\n"
     ]
    }
   ],
   "source": [
    "wdi = pd.read_csv(\"datasets/databank_wdi_data.csv\", na_values=\"..\")\n",
    "wdi = wdi.rename(columns={\n",
    "    \"Country Name\":\"country_name\",\n",
    "    \"Country Code\":\"country_code\",\n",
    "    \"Series Name\":\"indicator_name\",\n",
    "    \"Series Code\":\"indicator_code\",\n",
    "})\n",
    "wdi = wdi.rename(columns={f\"{y} [YR{y}]\":f\"{y}\" for y in range(2000,2020+1)})\n",
    "wdi.info()"
   ],
   "metadata": {
    "collapsed": false,
    "pycharm": {
     "name": "#%%\n"
    }
   }
  },
  {
   "cell_type": "code",
   "execution_count": 4,
   "outputs": [
    {
     "data": {
      "text/plain": "           2000      2001      2002      2003      2004      2005      2006  \\\ncount  7.69e+03  7.55e+03  8.04e+03  7.85e+03  8.11e+03  8.23e+03  8.25e+03   \nmean   1.54e+10  1.59e+10  1.54e+10  1.71e+10  1.84e+10  1.99e+10  2.17e+10   \nstd    2.41e+11  2.49e+11  2.48e+11  2.67e+11  2.86e+11  3.05e+11  3.24e+11   \nmin   -4.55e+09 -2.98e+09 -1.02e+09 -3.36e+09 -2.04e+10 -2.51e+10 -2.40e+09   \n25%    8.20e+00  7.99e+00  6.73e+00  8.75e+00  9.36e+00  9.16e+00  9.50e+00   \n50%    6.30e+01  6.52e+01  6.19e+01  6.30e+01  6.47e+01  6.36e+01  6.35e+01   \n75%    4.70e+03  6.01e+03  5.26e+03  4.77e+03  3.83e+03  3.21e+03  3.51e+03   \nmax    1.04e+13  1.07e+13  1.11e+13  1.15e+13  1.27e+13  1.36e+13  1.43e+13   \n\n           2007      2008      2009  ...      2011      2012      2013  \\\ncount  8.67e+03  8.30e+03  8.37e+03  ...  8.45e+03  8.87e+03  8.44e+03   \nmean   2.27e+10  2.54e+10  2.49e+10  ...  2.88e+10  2.87e+10  3.16e+10   \nstd    3.34e+11  3.56e+11  3.55e+11  ...  4.01e+11  4.15e+11  4.44e+11   \nmin   -2.97e+10 -9.50e+09 -8.83e+09  ... -6.01e+09 -1.63e+10 -2.96e+10   \n25%    8.07e+00  9.18e+00  8.27e+00  ...  8.69e+00  7.10e+00  7.95e+00   \n50%    6.13e+01  6.44e+01  6.11e+01  ...  6.44e+01  6.05e+01  6.39e+01   \n75%    3.31e+03  3.78e+03  3.45e+03  ...  3.65e+03  3.20e+03  3.88e+03   \nmax    1.46e+13  1.49e+13  1.46e+13  ...  1.58e+13  1.67e+13  1.72e+13   \n\n           2014      2015      2016      2017      2018      2019      2020  \ncount  8.55e+03  8.27e+03  8.42e+03  8.71e+03  8.26e+03  7.23e+03  4.18e+03  \nmean   3.21e+10  3.27e+10  3.26e+10  3.30e+10  3.69e+10  4.37e+10  4.21e+10  \nstd    4.62e+11  4.80e+11  4.88e+11  5.05e+11  5.56e+11  6.24e+11  6.00e+11  \nmin   -1.52e+10 -1.95e+10 -2.89e+10 -3.73e+10 -3.45e+11 -1.69e+11 -5.63e+01  \n25%    7.87e+00  7.06e+00  6.38e+00  5.61e+00  6.23e+00  7.24e+00  3.27e+00  \n50%    6.30e+01  5.59e+01  5.01e+01  4.74e+01  5.04e+01  5.83e+01  4.74e+01  \n75%    3.66e+03  3.45e+03  1.83e+03  1.93e+03  2.52e+03  4.70e+03  1.26e+04  \nmax    1.81e+13  1.87e+13  1.90e+13  1.99e+13  2.16e+13  2.35e+13  2.13e+13  \n\n[8 rows x 21 columns]",
      "text/html": "<div>\n<style scoped>\n    .dataframe tbody tr th:only-of-type {\n        vertical-align: middle;\n    }\n\n    .dataframe tbody tr th {\n        vertical-align: top;\n    }\n\n    .dataframe thead th {\n        text-align: right;\n    }\n</style>\n<table border=\"1\" class=\"dataframe\">\n  <thead>\n    <tr style=\"text-align: right;\">\n      <th></th>\n      <th>2000</th>\n      <th>2001</th>\n      <th>2002</th>\n      <th>2003</th>\n      <th>2004</th>\n      <th>2005</th>\n      <th>2006</th>\n      <th>2007</th>\n      <th>2008</th>\n      <th>2009</th>\n      <th>...</th>\n      <th>2011</th>\n      <th>2012</th>\n      <th>2013</th>\n      <th>2014</th>\n      <th>2015</th>\n      <th>2016</th>\n      <th>2017</th>\n      <th>2018</th>\n      <th>2019</th>\n      <th>2020</th>\n    </tr>\n  </thead>\n  <tbody>\n    <tr>\n      <th>count</th>\n      <td>7.69e+03</td>\n      <td>7.55e+03</td>\n      <td>8.04e+03</td>\n      <td>7.85e+03</td>\n      <td>8.11e+03</td>\n      <td>8.23e+03</td>\n      <td>8.25e+03</td>\n      <td>8.67e+03</td>\n      <td>8.30e+03</td>\n      <td>8.37e+03</td>\n      <td>...</td>\n      <td>8.45e+03</td>\n      <td>8.87e+03</td>\n      <td>8.44e+03</td>\n      <td>8.55e+03</td>\n      <td>8.27e+03</td>\n      <td>8.42e+03</td>\n      <td>8.71e+03</td>\n      <td>8.26e+03</td>\n      <td>7.23e+03</td>\n      <td>4.18e+03</td>\n    </tr>\n    <tr>\n      <th>mean</th>\n      <td>1.54e+10</td>\n      <td>1.59e+10</td>\n      <td>1.54e+10</td>\n      <td>1.71e+10</td>\n      <td>1.84e+10</td>\n      <td>1.99e+10</td>\n      <td>2.17e+10</td>\n      <td>2.27e+10</td>\n      <td>2.54e+10</td>\n      <td>2.49e+10</td>\n      <td>...</td>\n      <td>2.88e+10</td>\n      <td>2.87e+10</td>\n      <td>3.16e+10</td>\n      <td>3.21e+10</td>\n      <td>3.27e+10</td>\n      <td>3.26e+10</td>\n      <td>3.30e+10</td>\n      <td>3.69e+10</td>\n      <td>4.37e+10</td>\n      <td>4.21e+10</td>\n    </tr>\n    <tr>\n      <th>std</th>\n      <td>2.41e+11</td>\n      <td>2.49e+11</td>\n      <td>2.48e+11</td>\n      <td>2.67e+11</td>\n      <td>2.86e+11</td>\n      <td>3.05e+11</td>\n      <td>3.24e+11</td>\n      <td>3.34e+11</td>\n      <td>3.56e+11</td>\n      <td>3.55e+11</td>\n      <td>...</td>\n      <td>4.01e+11</td>\n      <td>4.15e+11</td>\n      <td>4.44e+11</td>\n      <td>4.62e+11</td>\n      <td>4.80e+11</td>\n      <td>4.88e+11</td>\n      <td>5.05e+11</td>\n      <td>5.56e+11</td>\n      <td>6.24e+11</td>\n      <td>6.00e+11</td>\n    </tr>\n    <tr>\n      <th>min</th>\n      <td>-4.55e+09</td>\n      <td>-2.98e+09</td>\n      <td>-1.02e+09</td>\n      <td>-3.36e+09</td>\n      <td>-2.04e+10</td>\n      <td>-2.51e+10</td>\n      <td>-2.40e+09</td>\n      <td>-2.97e+10</td>\n      <td>-9.50e+09</td>\n      <td>-8.83e+09</td>\n      <td>...</td>\n      <td>-6.01e+09</td>\n      <td>-1.63e+10</td>\n      <td>-2.96e+10</td>\n      <td>-1.52e+10</td>\n      <td>-1.95e+10</td>\n      <td>-2.89e+10</td>\n      <td>-3.73e+10</td>\n      <td>-3.45e+11</td>\n      <td>-1.69e+11</td>\n      <td>-5.63e+01</td>\n    </tr>\n    <tr>\n      <th>25%</th>\n      <td>8.20e+00</td>\n      <td>7.99e+00</td>\n      <td>6.73e+00</td>\n      <td>8.75e+00</td>\n      <td>9.36e+00</td>\n      <td>9.16e+00</td>\n      <td>9.50e+00</td>\n      <td>8.07e+00</td>\n      <td>9.18e+00</td>\n      <td>8.27e+00</td>\n      <td>...</td>\n      <td>8.69e+00</td>\n      <td>7.10e+00</td>\n      <td>7.95e+00</td>\n      <td>7.87e+00</td>\n      <td>7.06e+00</td>\n      <td>6.38e+00</td>\n      <td>5.61e+00</td>\n      <td>6.23e+00</td>\n      <td>7.24e+00</td>\n      <td>3.27e+00</td>\n    </tr>\n    <tr>\n      <th>50%</th>\n      <td>6.30e+01</td>\n      <td>6.52e+01</td>\n      <td>6.19e+01</td>\n      <td>6.30e+01</td>\n      <td>6.47e+01</td>\n      <td>6.36e+01</td>\n      <td>6.35e+01</td>\n      <td>6.13e+01</td>\n      <td>6.44e+01</td>\n      <td>6.11e+01</td>\n      <td>...</td>\n      <td>6.44e+01</td>\n      <td>6.05e+01</td>\n      <td>6.39e+01</td>\n      <td>6.30e+01</td>\n      <td>5.59e+01</td>\n      <td>5.01e+01</td>\n      <td>4.74e+01</td>\n      <td>5.04e+01</td>\n      <td>5.83e+01</td>\n      <td>4.74e+01</td>\n    </tr>\n    <tr>\n      <th>75%</th>\n      <td>4.70e+03</td>\n      <td>6.01e+03</td>\n      <td>5.26e+03</td>\n      <td>4.77e+03</td>\n      <td>3.83e+03</td>\n      <td>3.21e+03</td>\n      <td>3.51e+03</td>\n      <td>3.31e+03</td>\n      <td>3.78e+03</td>\n      <td>3.45e+03</td>\n      <td>...</td>\n      <td>3.65e+03</td>\n      <td>3.20e+03</td>\n      <td>3.88e+03</td>\n      <td>3.66e+03</td>\n      <td>3.45e+03</td>\n      <td>1.83e+03</td>\n      <td>1.93e+03</td>\n      <td>2.52e+03</td>\n      <td>4.70e+03</td>\n      <td>1.26e+04</td>\n    </tr>\n    <tr>\n      <th>max</th>\n      <td>1.04e+13</td>\n      <td>1.07e+13</td>\n      <td>1.11e+13</td>\n      <td>1.15e+13</td>\n      <td>1.27e+13</td>\n      <td>1.36e+13</td>\n      <td>1.43e+13</td>\n      <td>1.46e+13</td>\n      <td>1.49e+13</td>\n      <td>1.46e+13</td>\n      <td>...</td>\n      <td>1.58e+13</td>\n      <td>1.67e+13</td>\n      <td>1.72e+13</td>\n      <td>1.81e+13</td>\n      <td>1.87e+13</td>\n      <td>1.90e+13</td>\n      <td>1.99e+13</td>\n      <td>2.16e+13</td>\n      <td>2.35e+13</td>\n      <td>2.13e+13</td>\n    </tr>\n  </tbody>\n</table>\n<p>8 rows × 21 columns</p>\n</div>"
     },
     "execution_count": 4,
     "metadata": {},
     "output_type": "execute_result"
    }
   ],
   "source": [
    "wdi.describe()"
   ],
   "metadata": {
    "collapsed": false,
    "pycharm": {
     "name": "#%%\n"
    }
   }
  },
  {
   "cell_type": "code",
   "execution_count": 5,
   "outputs": [
    {
     "name": "stdout",
     "output_type": "stream",
     "text": [
      "Index unique: True\n",
      "Dataframe has dupliates: False, n=0\n"
     ]
    }
   ],
   "source": [
    "print(f\"Index unique: {wdi.index.is_unique}\")\n",
    "print(f\"Dataframe has dupliates: {sum(wdi.duplicated()) > 0}, n={sum(wdi.duplicated())}\")"
   ],
   "metadata": {
    "collapsed": false,
    "pycharm": {
     "name": "#%%\n"
    }
   }
  },
  {
   "cell_type": "code",
   "execution_count": 6,
   "outputs": [
    {
     "name": "stdout",
     "output_type": "stream",
     "text": [
      "Number of countries: 217\n",
      "Number of indicators:55\n",
      "Indicators:\n",
      "\t0 --> Adolescent fertility rate (births per 1,000 women ages 15-19)\n",
      "\t1 --> Agriculture, forestry, and fishing, value added (% of GDP)\n",
      "\t2 --> Annual freshwater withdrawals, total (% of internal resources)\n",
      "\t3 --> Births attended by skilled health staff (% of total)\n",
      "\t4 --> CO2 emissions (metric tons per capita)\n",
      "\t5 --> Contraceptive prevalence, any methods (% of women ages 15-49)\n",
      "\t6 --> Domestic credit provided by financial sector (% of GDP)\n",
      "\t7 --> Electric power consumption (kWh per capita)\n",
      "\t8 --> Energy use (kg of oil equivalent per capita)\n",
      "\t9 --> Exports of goods and services (% of GDP)\n",
      "\t10 --> External debt stocks, total (DOD, current US$)\n",
      "\t11 --> Fertility rate, total (births per woman)\n",
      "\t12 --> Foreign direct investment, net inflows (BoP, current US$)\n",
      "\t13 --> Forest area (sq. km)\n",
      "\t14 --> GDP (current US$)\n",
      "\t15 --> GDP growth (annual %)\n",
      "\t16 --> GNI per capita, Atlas method (current US$)\n",
      "\t17 --> GNI per capita, PPP (current international $)\n",
      "\t18 --> GNI, Atlas method (current US$)\n",
      "\t19 --> GNI, PPP (current international $)\n",
      "\t20 --> Gross capital formation (% of GDP)\n",
      "\t21 --> High-technology exports (% of manufactured exports)\n",
      "\t22 --> Immunization, measles (% of children ages 12-23 months)\n",
      "\t23 --> Imports of goods and services (% of GDP)\n",
      "\t24 --> Income share held by lowest 20%\n",
      "\t25 --> Industry (including construction), value added (% of GDP)\n",
      "\t26 --> Inflation, GDP deflator (annual %)\n",
      "\t27 --> Life expectancy at birth, total (years)\n",
      "\t28 --> Merchandise trade (% of GDP)\n",
      "\t29 --> Military expenditure (% of GDP)\n",
      "\t30 --> Mobile cellular subscriptions (per 100 people)\n",
      "\t31 --> Mortality rate, under-5 (per 1,000 live births)\n",
      "\t32 --> Net barter terms of trade index (2000 = 100)\n",
      "\t33 --> Net migration\n",
      "\t34 --> Net official development assistance and official aid received (current US$)\n",
      "\t35 --> Personal remittances, received (current US$)\n",
      "\t36 --> Population density (people per sq. km of land area)\n",
      "\t37 --> Population growth (annual %)\n",
      "\t38 --> Population, total\n",
      "\t39 --> Poverty headcount ratio at $1.90 a day (2011 PPP) (% of population)\n",
      "\t40 --> Poverty headcount ratio at national poverty lines (% of population)\n",
      "\t41 --> Prevalence of HIV, total (% of population ages 15-49)\n",
      "\t42 --> Prevalence of underweight, weight for age (% of children under 5)\n",
      "\t43 --> Primary completion rate, total (% of relevant age group)\n",
      "\t44 --> Revenue, excluding grants (% of GDP)\n",
      "\t45 --> School enrollment, primary (% gross)\n",
      "\t46 --> School enrollment, primary and secondary (gross), gender parity index (GPI)\n",
      "\t47 --> School enrollment, secondary (% gross)\n",
      "\t48 --> Statistical Capacity Score (Overall Average) (scale 0 - 100)\n",
      "\t49 --> Surface area (sq. km)\n",
      "\t50 --> Tax revenue (% of GDP)\n",
      "\t51 --> Terrestrial and marine protected areas (% of total territorial area)\n",
      "\t52 --> Time required to start a business (days)\n",
      "\t53 --> Total debt service (% of exports of goods, services and primary income)\n",
      "\t54 --> Urban population growth (annual %)\n"
     ]
    }
   ],
   "source": [
    "print(f\"Number of countries: {len(wdi.country_name.unique())}\")\n",
    "indicators = wdi.indicator_name.unique()\n",
    "print(f\"Number of indicators:{len(indicators)}\")\n",
    "print(f\"Indicators:\")\n",
    "for i, s in enumerate(indicators):\n",
    "    print(f\"\\t{i} --> {s}\")"
   ],
   "metadata": {
    "collapsed": false,
    "pycharm": {
     "name": "#%%\n"
    }
   }
  },
  {
   "cell_type": "code",
   "execution_count": 7,
   "outputs": [
    {
     "name": "stdout",
     "output_type": "stream",
     "text": [
      "A list of some interesing indicators:\n",
      "\t8 --> Energy use (kg of oil equivalent per capita)\n",
      "\t14 --> GDP (current US$)\n",
      "\t36 --> Population density (people per sq. km of land area)\n",
      "\t38 --> Population, total\n",
      "\t47 --> School enrollment, secondary (% gross)\n",
      "\t49 --> Surface area (sq. km)\n"
     ]
    }
   ],
   "source": [
    "interesting_indicators = [\n",
    "    \"Population, total\",\n",
    "    \"Population density (people per sq. km of land area)\",\n",
    "    \"Surface area (sq. km)\",\n",
    "    \"School enrollment, secondary (% gross)\",\n",
    "    \"GDP (current US$)\",\n",
    "    \"Energy use (kg of oil equivalent per capita)\",\n",
    "]\n",
    "\n",
    "print(f\"A list of some interesing indicators:\")\n",
    "for i, s in enumerate(indicators):\n",
    "    if s in interesting_indicators:\n",
    "        print(f\"\\t{i} --> {s}\")"
   ],
   "metadata": {
    "collapsed": false,
    "pycharm": {
     "name": "#%%\n"
    }
   }
  },
  {
   "cell_type": "code",
   "execution_count": 8,
   "outputs": [
    {
     "data": {
      "text/plain": "     country_name country_code  \\\n2648      Croatia          HRV   \n2654      Croatia          HRV   \n2676      Croatia          HRV   \n2678      Croatia          HRV   \n2687      Croatia          HRV   \n2689      Croatia          HRV   \n\n                                         indicator_name     indicator_code  \\\n2648       Energy use (kg of oil equivalent per capita)  EG.USE.PCAP.KG.OE   \n2654                                  GDP (current US$)     NY.GDP.MKTP.CD   \n2676  Population density (people per sq. km of land ...        EN.POP.DNST   \n2678                                  Population, total        SP.POP.TOTL   \n2687             School enrollment, secondary (% gross)        SE.SEC.ENRR   \n2689                              Surface area (sq. km)     AG.SRF.TOTL.K2   \n\n          2000      2001      2002      2003      2004      2005  ...  \\\n2648  1.88e+03  2.02e+03  2.08e+03  2.23e+03  2.23e+03  2.26e+03  ...   \n2654  2.16e+10  2.31e+10  2.68e+10  3.47e+10  4.16e+10  4.54e+10  ...   \n2676  7.99e+01  7.69e+01  7.69e+01  7.70e+01  7.69e+01  7.70e+01  ...   \n2678  4.47e+06  4.30e+06  4.30e+06  4.30e+06  4.30e+06  4.31e+06  ...   \n2687  8.55e+01  8.58e+01  8.69e+01  8.83e+01       NaN  9.32e+01  ...   \n2689  5.65e+04  5.65e+04  5.65e+04  5.65e+04  5.66e+04  5.66e+04  ...   \n\n          2011      2012      2013      2014      2015      2016      2017  \\\n2648  2.14e+03  2.02e+03  1.98e+03  1.90e+03       NaN       NaN       NaN   \n2654  6.25e+10  5.66e+10  5.82e+10  5.76e+10  4.95e+10  5.16e+10  5.55e+10   \n2676  7.65e+01  7.63e+01  7.60e+01  7.49e+01  7.43e+01  7.38e+01  7.29e+01   \n2678  4.28e+06  4.27e+06  4.26e+06  4.24e+06  4.20e+06  4.17e+06  4.12e+06   \n2687  9.92e+01  9.89e+01  9.93e+01  9.87e+01  9.87e+01  9.89e+01  9.94e+01   \n2689  5.66e+04  8.81e+04  8.81e+04  8.81e+04  8.81e+04  8.81e+04  8.81e+04   \n\n          2018      2019      2020  \n2648       NaN       NaN       NaN  \n2654  6.14e+10  6.08e+10  5.60e+10  \n2676  7.22e+01  7.18e+01  7.15e+01  \n2678  4.09e+06  4.07e+06  4.05e+06  \n2687  1.00e+02  1.00e+02       NaN  \n2689  8.81e+04       NaN       NaN  \n\n[6 rows x 25 columns]",
      "text/html": "<div>\n<style scoped>\n    .dataframe tbody tr th:only-of-type {\n        vertical-align: middle;\n    }\n\n    .dataframe tbody tr th {\n        vertical-align: top;\n    }\n\n    .dataframe thead th {\n        text-align: right;\n    }\n</style>\n<table border=\"1\" class=\"dataframe\">\n  <thead>\n    <tr style=\"text-align: right;\">\n      <th></th>\n      <th>country_name</th>\n      <th>country_code</th>\n      <th>indicator_name</th>\n      <th>indicator_code</th>\n      <th>2000</th>\n      <th>2001</th>\n      <th>2002</th>\n      <th>2003</th>\n      <th>2004</th>\n      <th>2005</th>\n      <th>...</th>\n      <th>2011</th>\n      <th>2012</th>\n      <th>2013</th>\n      <th>2014</th>\n      <th>2015</th>\n      <th>2016</th>\n      <th>2017</th>\n      <th>2018</th>\n      <th>2019</th>\n      <th>2020</th>\n    </tr>\n  </thead>\n  <tbody>\n    <tr>\n      <th>2648</th>\n      <td>Croatia</td>\n      <td>HRV</td>\n      <td>Energy use (kg of oil equivalent per capita)</td>\n      <td>EG.USE.PCAP.KG.OE</td>\n      <td>1.88e+03</td>\n      <td>2.02e+03</td>\n      <td>2.08e+03</td>\n      <td>2.23e+03</td>\n      <td>2.23e+03</td>\n      <td>2.26e+03</td>\n      <td>...</td>\n      <td>2.14e+03</td>\n      <td>2.02e+03</td>\n      <td>1.98e+03</td>\n      <td>1.90e+03</td>\n      <td>NaN</td>\n      <td>NaN</td>\n      <td>NaN</td>\n      <td>NaN</td>\n      <td>NaN</td>\n      <td>NaN</td>\n    </tr>\n    <tr>\n      <th>2654</th>\n      <td>Croatia</td>\n      <td>HRV</td>\n      <td>GDP (current US$)</td>\n      <td>NY.GDP.MKTP.CD</td>\n      <td>2.16e+10</td>\n      <td>2.31e+10</td>\n      <td>2.68e+10</td>\n      <td>3.47e+10</td>\n      <td>4.16e+10</td>\n      <td>4.54e+10</td>\n      <td>...</td>\n      <td>6.25e+10</td>\n      <td>5.66e+10</td>\n      <td>5.82e+10</td>\n      <td>5.76e+10</td>\n      <td>4.95e+10</td>\n      <td>5.16e+10</td>\n      <td>5.55e+10</td>\n      <td>6.14e+10</td>\n      <td>6.08e+10</td>\n      <td>5.60e+10</td>\n    </tr>\n    <tr>\n      <th>2676</th>\n      <td>Croatia</td>\n      <td>HRV</td>\n      <td>Population density (people per sq. km of land ...</td>\n      <td>EN.POP.DNST</td>\n      <td>7.99e+01</td>\n      <td>7.69e+01</td>\n      <td>7.69e+01</td>\n      <td>7.70e+01</td>\n      <td>7.69e+01</td>\n      <td>7.70e+01</td>\n      <td>...</td>\n      <td>7.65e+01</td>\n      <td>7.63e+01</td>\n      <td>7.60e+01</td>\n      <td>7.49e+01</td>\n      <td>7.43e+01</td>\n      <td>7.38e+01</td>\n      <td>7.29e+01</td>\n      <td>7.22e+01</td>\n      <td>7.18e+01</td>\n      <td>7.15e+01</td>\n    </tr>\n    <tr>\n      <th>2678</th>\n      <td>Croatia</td>\n      <td>HRV</td>\n      <td>Population, total</td>\n      <td>SP.POP.TOTL</td>\n      <td>4.47e+06</td>\n      <td>4.30e+06</td>\n      <td>4.30e+06</td>\n      <td>4.30e+06</td>\n      <td>4.30e+06</td>\n      <td>4.31e+06</td>\n      <td>...</td>\n      <td>4.28e+06</td>\n      <td>4.27e+06</td>\n      <td>4.26e+06</td>\n      <td>4.24e+06</td>\n      <td>4.20e+06</td>\n      <td>4.17e+06</td>\n      <td>4.12e+06</td>\n      <td>4.09e+06</td>\n      <td>4.07e+06</td>\n      <td>4.05e+06</td>\n    </tr>\n    <tr>\n      <th>2687</th>\n      <td>Croatia</td>\n      <td>HRV</td>\n      <td>School enrollment, secondary (% gross)</td>\n      <td>SE.SEC.ENRR</td>\n      <td>8.55e+01</td>\n      <td>8.58e+01</td>\n      <td>8.69e+01</td>\n      <td>8.83e+01</td>\n      <td>NaN</td>\n      <td>9.32e+01</td>\n      <td>...</td>\n      <td>9.92e+01</td>\n      <td>9.89e+01</td>\n      <td>9.93e+01</td>\n      <td>9.87e+01</td>\n      <td>9.87e+01</td>\n      <td>9.89e+01</td>\n      <td>9.94e+01</td>\n      <td>1.00e+02</td>\n      <td>1.00e+02</td>\n      <td>NaN</td>\n    </tr>\n    <tr>\n      <th>2689</th>\n      <td>Croatia</td>\n      <td>HRV</td>\n      <td>Surface area (sq. km)</td>\n      <td>AG.SRF.TOTL.K2</td>\n      <td>5.65e+04</td>\n      <td>5.65e+04</td>\n      <td>5.65e+04</td>\n      <td>5.65e+04</td>\n      <td>5.66e+04</td>\n      <td>5.66e+04</td>\n      <td>...</td>\n      <td>5.66e+04</td>\n      <td>8.81e+04</td>\n      <td>8.81e+04</td>\n      <td>8.81e+04</td>\n      <td>8.81e+04</td>\n      <td>8.81e+04</td>\n      <td>8.81e+04</td>\n      <td>8.81e+04</td>\n      <td>NaN</td>\n      <td>NaN</td>\n    </tr>\n  </tbody>\n</table>\n<p>6 rows × 25 columns</p>\n</div>"
     },
     "execution_count": 8,
     "metadata": {},
     "output_type": "execute_result"
    }
   ],
   "source": [
    "croatia = wdi[wdi.country_name == \"Croatia\"]\n",
    "# croatia\n",
    "croatia[croatia.indicator_name.isin(interesting_indicators)]"
   ],
   "metadata": {
    "collapsed": false,
    "pycharm": {
     "name": "#%%\n"
    }
   }
  },
  {
   "cell_type": "code",
   "execution_count": 9,
   "outputs": [
    {
     "data": {
      "text/plain": "     country_name country_code  \\\n4628        Haiti          HTI   \n4634        Haiti          HTI   \n4656        Haiti          HTI   \n4658        Haiti          HTI   \n4667        Haiti          HTI   \n4669        Haiti          HTI   \n\n                                         indicator_name     indicator_code  \\\n4628       Energy use (kg of oil equivalent per capita)  EG.USE.PCAP.KG.OE   \n4634                                  GDP (current US$)     NY.GDP.MKTP.CD   \n4656  Population density (people per sq. km of land ...        EN.POP.DNST   \n4658                                  Population, total        SP.POP.TOTL   \n4667             School enrollment, secondary (% gross)        SE.SEC.ENRR   \n4669                              Surface area (sq. km)     AG.SRF.TOTL.K2   \n\n          2000      2001      2002      2003      2004      2005  ...  \\\n4628  2.38e+02  2.39e+02  2.64e+02  2.49e+02  2.53e+02  3.70e+02  ...   \n4634  6.87e+09  6.36e+09  6.11e+09  5.00e+09  6.01e+09  7.05e+09  ...   \n4656  3.07e+02  3.12e+02  3.18e+02  3.23e+02  3.28e+02  3.34e+02  ...   \n4658  8.46e+06  8.61e+06  8.75e+06  8.90e+06  9.05e+06  9.20e+06  ...   \n4667       NaN       NaN       NaN       NaN       NaN       NaN  ...   \n4669  2.78e+04  2.78e+04  2.78e+04  2.78e+04  2.78e+04  2.78e+04  ...   \n\n          2011      2012      2013      2014      2015      2016      2017  \\\n4628  3.89e+02  3.97e+02  3.94e+02  3.94e+02       NaN       NaN       NaN   \n4634  1.30e+10  1.37e+10  1.45e+10  1.48e+10  1.49e+10  1.37e+10  1.42e+10   \n4656  3.66e+02  3.72e+02  3.77e+02  3.83e+02  3.88e+02  3.93e+02  3.98e+02   \n4658  1.01e+07  1.03e+07  1.04e+07  1.05e+07  1.07e+07  1.08e+07  1.10e+07   \n4667       NaN       NaN       NaN       NaN       NaN       NaN       NaN   \n4669  2.78e+04  2.78e+04  2.78e+04  2.78e+04  2.78e+04  2.78e+04  2.78e+04   \n\n          2018      2019      2020  \n4628       NaN       NaN       NaN  \n4634  1.60e+10  1.43e+10  1.34e+10  \n4656  4.04e+02  4.09e+02  4.14e+02  \n4658  1.11e+07  1.13e+07  1.14e+07  \n4667       NaN       NaN       NaN  \n4669  2.78e+04       NaN       NaN  \n\n[6 rows x 25 columns]",
      "text/html": "<div>\n<style scoped>\n    .dataframe tbody tr th:only-of-type {\n        vertical-align: middle;\n    }\n\n    .dataframe tbody tr th {\n        vertical-align: top;\n    }\n\n    .dataframe thead th {\n        text-align: right;\n    }\n</style>\n<table border=\"1\" class=\"dataframe\">\n  <thead>\n    <tr style=\"text-align: right;\">\n      <th></th>\n      <th>country_name</th>\n      <th>country_code</th>\n      <th>indicator_name</th>\n      <th>indicator_code</th>\n      <th>2000</th>\n      <th>2001</th>\n      <th>2002</th>\n      <th>2003</th>\n      <th>2004</th>\n      <th>2005</th>\n      <th>...</th>\n      <th>2011</th>\n      <th>2012</th>\n      <th>2013</th>\n      <th>2014</th>\n      <th>2015</th>\n      <th>2016</th>\n      <th>2017</th>\n      <th>2018</th>\n      <th>2019</th>\n      <th>2020</th>\n    </tr>\n  </thead>\n  <tbody>\n    <tr>\n      <th>4628</th>\n      <td>Haiti</td>\n      <td>HTI</td>\n      <td>Energy use (kg of oil equivalent per capita)</td>\n      <td>EG.USE.PCAP.KG.OE</td>\n      <td>2.38e+02</td>\n      <td>2.39e+02</td>\n      <td>2.64e+02</td>\n      <td>2.49e+02</td>\n      <td>2.53e+02</td>\n      <td>3.70e+02</td>\n      <td>...</td>\n      <td>3.89e+02</td>\n      <td>3.97e+02</td>\n      <td>3.94e+02</td>\n      <td>3.94e+02</td>\n      <td>NaN</td>\n      <td>NaN</td>\n      <td>NaN</td>\n      <td>NaN</td>\n      <td>NaN</td>\n      <td>NaN</td>\n    </tr>\n    <tr>\n      <th>4634</th>\n      <td>Haiti</td>\n      <td>HTI</td>\n      <td>GDP (current US$)</td>\n      <td>NY.GDP.MKTP.CD</td>\n      <td>6.87e+09</td>\n      <td>6.36e+09</td>\n      <td>6.11e+09</td>\n      <td>5.00e+09</td>\n      <td>6.01e+09</td>\n      <td>7.05e+09</td>\n      <td>...</td>\n      <td>1.30e+10</td>\n      <td>1.37e+10</td>\n      <td>1.45e+10</td>\n      <td>1.48e+10</td>\n      <td>1.49e+10</td>\n      <td>1.37e+10</td>\n      <td>1.42e+10</td>\n      <td>1.60e+10</td>\n      <td>1.43e+10</td>\n      <td>1.34e+10</td>\n    </tr>\n    <tr>\n      <th>4656</th>\n      <td>Haiti</td>\n      <td>HTI</td>\n      <td>Population density (people per sq. km of land ...</td>\n      <td>EN.POP.DNST</td>\n      <td>3.07e+02</td>\n      <td>3.12e+02</td>\n      <td>3.18e+02</td>\n      <td>3.23e+02</td>\n      <td>3.28e+02</td>\n      <td>3.34e+02</td>\n      <td>...</td>\n      <td>3.66e+02</td>\n      <td>3.72e+02</td>\n      <td>3.77e+02</td>\n      <td>3.83e+02</td>\n      <td>3.88e+02</td>\n      <td>3.93e+02</td>\n      <td>3.98e+02</td>\n      <td>4.04e+02</td>\n      <td>4.09e+02</td>\n      <td>4.14e+02</td>\n    </tr>\n    <tr>\n      <th>4658</th>\n      <td>Haiti</td>\n      <td>HTI</td>\n      <td>Population, total</td>\n      <td>SP.POP.TOTL</td>\n      <td>8.46e+06</td>\n      <td>8.61e+06</td>\n      <td>8.75e+06</td>\n      <td>8.90e+06</td>\n      <td>9.05e+06</td>\n      <td>9.20e+06</td>\n      <td>...</td>\n      <td>1.01e+07</td>\n      <td>1.03e+07</td>\n      <td>1.04e+07</td>\n      <td>1.05e+07</td>\n      <td>1.07e+07</td>\n      <td>1.08e+07</td>\n      <td>1.10e+07</td>\n      <td>1.11e+07</td>\n      <td>1.13e+07</td>\n      <td>1.14e+07</td>\n    </tr>\n    <tr>\n      <th>4667</th>\n      <td>Haiti</td>\n      <td>HTI</td>\n      <td>School enrollment, secondary (% gross)</td>\n      <td>SE.SEC.ENRR</td>\n      <td>NaN</td>\n      <td>NaN</td>\n      <td>NaN</td>\n      <td>NaN</td>\n      <td>NaN</td>\n      <td>NaN</td>\n      <td>...</td>\n      <td>NaN</td>\n      <td>NaN</td>\n      <td>NaN</td>\n      <td>NaN</td>\n      <td>NaN</td>\n      <td>NaN</td>\n      <td>NaN</td>\n      <td>NaN</td>\n      <td>NaN</td>\n      <td>NaN</td>\n    </tr>\n    <tr>\n      <th>4669</th>\n      <td>Haiti</td>\n      <td>HTI</td>\n      <td>Surface area (sq. km)</td>\n      <td>AG.SRF.TOTL.K2</td>\n      <td>2.78e+04</td>\n      <td>2.78e+04</td>\n      <td>2.78e+04</td>\n      <td>2.78e+04</td>\n      <td>2.78e+04</td>\n      <td>2.78e+04</td>\n      <td>...</td>\n      <td>2.78e+04</td>\n      <td>2.78e+04</td>\n      <td>2.78e+04</td>\n      <td>2.78e+04</td>\n      <td>2.78e+04</td>\n      <td>2.78e+04</td>\n      <td>2.78e+04</td>\n      <td>2.78e+04</td>\n      <td>NaN</td>\n      <td>NaN</td>\n    </tr>\n  </tbody>\n</table>\n<p>6 rows × 25 columns</p>\n</div>"
     },
     "execution_count": 9,
     "metadata": {},
     "output_type": "execute_result"
    }
   ],
   "source": [
    "haiti = wdi[wdi.country_name == \"Haiti\"]\n",
    "haiti[haiti.indicator_name.isin(interesting_indicators)]"
   ],
   "metadata": {
    "collapsed": false,
    "pycharm": {
     "name": "#%%\n"
    }
   }
  },
  {
   "cell_type": "markdown",
   "source": [
    "## Discussion\n",
    "\n",
    "Some data is missing. For some countries like Haiti, there was no information on `School enrollment, secondary (% gross)`, whereas for Croatia, there was no data about it only for year 2020. Missing data will need to be taken care of when applying machine learning models. Different models have different \"preferences\" which we will need to take care of ad hoc. It will likely make sense to interpolate some of the missing fields. For example, if the country surface area was reported for the past 3 years, but was not reported for year 2020 (like for Croatia), we might just want to copy the surface area from the previous year, as it very likely did not change. Or we could compute it by dividing the population by the population density. Overall, data polishing might require a lot of work and we should be cautious about it when reaching towards machine learning models.\n",
    "\n",
    "TODO Analyse correlations in the data"
   ],
   "metadata": {
    "collapsed": false
   }
  },
  {
   "cell_type": "code",
   "execution_count": 10,
   "outputs": [],
   "source": [
    "def correlation_indicators_of_country(df, c_name):\n",
    "    country_df = df[df.country_name == c_name]\n",
    "    indicators = {}\n",
    "    for index, row in country_df.iterrows():\n",
    "        indicators[index] = row[\"indicator_name\"]\n",
    "    country_df = country_df.filter(regex=\"([0-9]{4})\")\n",
    "    country_df_t = country_df.transpose().dropna(axis=1).rename(columns=indicators)\n",
    "    return country_df_t.corr()\n",
    "\n",
    "def correlation_countries(df, c1_name, c2_name):\n",
    "    country1_df = df[df.country_name == c1_name]\n",
    "    country2_df = df[df.country_name == c2_name]\n",
    "    return country1_df.corrwith(country2_df, axis=1)"
   ],
   "metadata": {
    "collapsed": false,
    "pycharm": {
     "name": "#%%\n"
    }
   }
  },
  {
   "cell_type": "code",
   "execution_count": 11,
   "outputs": [
    {
     "data": {
      "text/plain": "                                                    Agriculture, forestry, and fishing, value added (% of GDP)  \\\nAgriculture, forestry, and fishing, value added...                                               1.00            \nExports of goods and services (% of GDP)                                                        -0.77            \nForest area (sq. km)                                                                            -0.91            \nGDP (current US$)                                                                               -0.73            \nGDP growth (annual %)                                                                            0.24            \nGNI per capita, Atlas method (current US$)                                                      -0.81            \nGNI, Atlas method (current US$)                                                                 -0.78            \nGross capital formation (% of GDP)                                                               0.26            \nImports of goods and services (% of GDP)                                                        -0.43            \nIndustry (including construction), value added ...                                               0.85            \nInflation, GDP deflator (annual %)                                                               0.76            \nMerchandise trade (% of GDP)                                                                    -0.63            \nMilitary expenditure (% of GDP)                                                                  0.79            \nMobile cellular subscriptions (per 100 people)                                                  -0.80            \nPersonal remittances, received (current US$)                                                    -0.86            \nPopulation density (people per sq. km of land a...                                               0.79            \nPopulation growth (annual %)                                                                    -0.19            \nPopulation, total                                                                                0.77            \nPrevalence of HIV, total (% of population ages ...                                                NaN            \nUrban population growth (annual %)                                                              -0.25            \n\n                                                    Exports of goods and services (% of GDP)  \\\nAgriculture, forestry, and fishing, value added...                                     -0.77   \nExports of goods and services (% of GDP)                                                1.00   \nForest area (sq. km)                                                                    0.71   \nGDP (current US$)                                                                       0.32   \nGDP growth (annual %)                                                                   0.12   \nGNI per capita, Atlas method (current US$)                                              0.44   \nGNI, Atlas method (current US$)                                                         0.38   \nGross capital formation (% of GDP)                                                     -0.35   \nImports of goods and services (% of GDP)                                                0.69   \nIndustry (including construction), value added ...                                     -0.85   \nInflation, GDP deflator (annual %)                                                     -0.62   \nMerchandise trade (% of GDP)                                                            0.84   \nMilitary expenditure (% of GDP)                                                        -0.42   \nMobile cellular subscriptions (per 100 people)                                          0.38   \nPersonal remittances, received (current US$)                                            0.77   \nPopulation density (people per sq. km of land a...                                     -0.86   \nPopulation growth (annual %)                                                           -0.21   \nPopulation, total                                                                      -0.83   \nPrevalence of HIV, total (% of population ages ...                                       NaN   \nUrban population growth (annual %)                                                     -0.14   \n\n                                                    Forest area (sq. km)  \\\nAgriculture, forestry, and fishing, value added...                 -0.91   \nExports of goods and services (% of GDP)                            0.71   \nForest area (sq. km)                                                1.00   \nGDP (current US$)                                                   0.80   \nGDP growth (annual %)                                              -0.49   \nGNI per capita, Atlas method (current US$)                          0.89   \nGNI, Atlas method (current US$)                                     0.86   \nGross capital formation (% of GDP)                                 -0.26   \nImports of goods and services (% of GDP)                            0.38   \nIndustry (including construction), value added ...                 -0.87   \nInflation, GDP deflator (annual %)                                 -0.75   \nMerchandise trade (% of GDP)                                        0.64   \nMilitary expenditure (% of GDP)                                    -0.74   \nMobile cellular subscriptions (per 100 people)                      0.83   \nPersonal remittances, received (current US$)                        0.96   \nPopulation density (people per sq. km of land a...                 -0.85   \nPopulation growth (annual %)                                        0.14   \nPopulation, total                                                  -0.85   \nPrevalence of HIV, total (% of population ages ...                   NaN   \nUrban population growth (annual %)                                  0.20   \n\n                                                    GDP (current US$)  \\\nAgriculture, forestry, and fishing, value added...              -0.73   \nExports of goods and services (% of GDP)                         0.32   \nForest area (sq. km)                                             0.80   \nGDP (current US$)                                                1.00   \nGDP growth (annual %)                                           -0.43   \nGNI per capita, Atlas method (current US$)                       0.97   \nGNI, Atlas method (current US$)                                  0.97   \nGross capital formation (% of GDP)                               0.05   \nImports of goods and services (% of GDP)                         0.13   \nIndustry (including construction), value added ...              -0.52   \nInflation, GDP deflator (annual %)                              -0.40   \nMerchandise trade (% of GDP)                                     0.26   \nMilitary expenditure (% of GDP)                                 -0.84   \nMobile cellular subscriptions (per 100 people)                   0.94   \nPersonal remittances, received (current US$)                     0.73   \nPopulation density (people per sq. km of land a...              -0.44   \nPopulation growth (annual %)                                     0.41   \nPopulation, total                                               -0.46   \nPrevalence of HIV, total (% of population ages ...                NaN   \nUrban population growth (annual %)                               0.42   \n\n                                                    GDP growth (annual %)  \\\nAgriculture, forestry, and fishing, value added...                   0.24   \nExports of goods and services (% of GDP)                             0.12   \nForest area (sq. km)                                                -0.49   \nGDP (current US$)                                                   -0.43   \nGDP growth (annual %)                                                1.00   \nGNI per capita, Atlas method (current US$)                          -0.52   \nGNI, Atlas method (current US$)                                     -0.52   \nGross capital formation (% of GDP)                                   0.27   \nImports of goods and services (% of GDP)                             0.37   \nIndustry (including construction), value added ...                   0.28   \nInflation, GDP deflator (annual %)                                   0.43   \nMerchandise trade (% of GDP)                                         0.04   \nMilitary expenditure (% of GDP)                                      0.19   \nMobile cellular subscriptions (per 100 people)                      -0.42   \nPersonal remittances, received (current US$)                        -0.36   \nPopulation density (people per sq. km of land a...                   0.23   \nPopulation growth (annual %)                                        -0.05   \nPopulation, total                                                    0.25   \nPrevalence of HIV, total (% of population ages ...                    NaN   \nUrban population growth (annual %)                                  -0.07   \n\n                                                    GNI per capita, Atlas method (current US$)  \\\nAgriculture, forestry, and fishing, value added...                                       -0.81   \nExports of goods and services (% of GDP)                                                  0.44   \nForest area (sq. km)                                                                      0.89   \nGDP (current US$)                                                                         0.97   \nGDP growth (annual %)                                                                    -0.52   \nGNI per capita, Atlas method (current US$)                                                1.00   \nGNI, Atlas method (current US$)                                                           1.00   \nGross capital formation (% of GDP)                                                       -0.11   \nImports of goods and services (% of GDP)                                                  0.14   \nIndustry (including construction), value added ...                                       -0.66   \nInflation, GDP deflator (annual %)                                                       -0.58   \nMerchandise trade (% of GDP)                                                              0.35   \nMilitary expenditure (% of GDP)                                                          -0.83   \nMobile cellular subscriptions (per 100 people)                                            0.96   \nPersonal remittances, received (current US$)                                              0.81   \nPopulation density (people per sq. km of land a...                                       -0.56   \nPopulation growth (annual %)                                                              0.32   \nPopulation, total                                                                        -0.57   \nPrevalence of HIV, total (% of population ages ...                                         NaN   \nUrban population growth (annual %)                                                        0.35   \n\n                                                    GNI, Atlas method (current US$)  \\\nAgriculture, forestry, and fishing, value added...                            -0.78   \nExports of goods and services (% of GDP)                                       0.38   \nForest area (sq. km)                                                           0.86   \nGDP (current US$)                                                              0.97   \nGDP growth (annual %)                                                         -0.52   \nGNI per capita, Atlas method (current US$)                                     1.00   \nGNI, Atlas method (current US$)                                                1.00   \nGross capital formation (% of GDP)                                            -0.10   \nImports of goods and services (% of GDP)                                       0.08   \nIndustry (including construction), value added ...                            -0.61   \nInflation, GDP deflator (annual %)                                            -0.55   \nMerchandise trade (% of GDP)                                                   0.28   \nMilitary expenditure (% of GDP)                                               -0.83   \nMobile cellular subscriptions (per 100 people)                                 0.96   \nPersonal remittances, received (current US$)                                   0.76   \nPopulation density (people per sq. km of land a...                            -0.50   \nPopulation growth (annual %)                                                   0.35   \nPopulation, total                                                             -0.50   \nPrevalence of HIV, total (% of population ages ...                              NaN   \nUrban population growth (annual %)                                             0.37   \n\n                                                    Gross capital formation (% of GDP)  \\\nAgriculture, forestry, and fishing, value added...                                0.26   \nExports of goods and services (% of GDP)                                         -0.35   \nForest area (sq. km)                                                             -0.26   \nGDP (current US$)                                                                 0.05   \nGDP growth (annual %)                                                             0.27   \nGNI per capita, Atlas method (current US$)                                       -0.11   \nGNI, Atlas method (current US$)                                                  -0.10   \nGross capital formation (% of GDP)                                                1.00   \nImports of goods and services (% of GDP)                                          0.36   \nIndustry (including construction), value added ...                                0.54   \nInflation, GDP deflator (annual %)                                                0.67   \nMerchandise trade (% of GDP)                                                      0.03   \nMilitary expenditure (% of GDP)                                                  -0.10   \nMobile cellular subscriptions (per 100 people)                                   -0.08   \nPersonal remittances, received (current US$)                                     -0.09   \nPopulation density (people per sq. km of land a...                                0.17   \nPopulation growth (annual %)                                                      0.39   \nPopulation, total                                                                 0.14   \nPrevalence of HIV, total (% of population ages ...                                 NaN   \nUrban population growth (annual %)                                                0.37   \n\n                                                    Imports of goods and services (% of GDP)  \\\nAgriculture, forestry, and fishing, value added...                                     -0.43   \nExports of goods and services (% of GDP)                                                0.69   \nForest area (sq. km)                                                                    0.38   \nGDP (current US$)                                                                       0.13   \nGDP growth (annual %)                                                                   0.37   \nGNI per capita, Atlas method (current US$)                                              0.14   \nGNI, Atlas method (current US$)                                                         0.08   \nGross capital formation (% of GDP)                                                      0.36   \nImports of goods and services (% of GDP)                                                1.00   \nIndustry (including construction), value added ...                                     -0.38   \nInflation, GDP deflator (annual %)                                                     -0.05   \nMerchandise trade (% of GDP)                                                            0.87   \nMilitary expenditure (% of GDP)                                                        -0.28   \nMobile cellular subscriptions (per 100 people)                                          0.11   \nPersonal remittances, received (current US$)                                            0.57   \nPopulation density (people per sq. km of land a...                                     -0.69   \nPopulation growth (annual %)                                                            0.02   \nPopulation, total                                                                      -0.69   \nPrevalence of HIV, total (% of population ages ...                                       NaN   \nUrban population growth (annual %)                                                      0.07   \n\n                                                    Industry (including construction), value added (% of GDP)  \\\nAgriculture, forestry, and fishing, value added...                                               0.85           \nExports of goods and services (% of GDP)                                                        -0.85           \nForest area (sq. km)                                                                            -0.87           \nGDP (current US$)                                                                               -0.52           \nGDP growth (annual %)                                                                            0.28           \nGNI per capita, Atlas method (current US$)                                                      -0.66           \nGNI, Atlas method (current US$)                                                                 -0.61           \nGross capital formation (% of GDP)                                                               0.54           \nImports of goods and services (% of GDP)                                                        -0.38           \nIndustry (including construction), value added ...                                               1.00           \nInflation, GDP deflator (annual %)                                                               0.81           \nMerchandise trade (% of GDP)                                                                    -0.65           \nMilitary expenditure (% of GDP)                                                                  0.47           \nMobile cellular subscriptions (per 100 people)                                                  -0.60           \nPersonal remittances, received (current US$)                                                    -0.82           \nPopulation density (people per sq. km of land a...                                               0.84           \nPopulation growth (annual %)                                                                     0.09           \nPopulation, total                                                                                0.82           \nPrevalence of HIV, total (% of population ages ...                                                NaN           \nUrban population growth (annual %)                                                               0.03           \n\n                                                    Inflation, GDP deflator (annual %)  \\\nAgriculture, forestry, and fishing, value added...                            7.64e-01   \nExports of goods and services (% of GDP)                                     -6.21e-01   \nForest area (sq. km)                                                         -7.51e-01   \nGDP (current US$)                                                            -3.98e-01   \nGDP growth (annual %)                                                         4.25e-01   \nGNI per capita, Atlas method (current US$)                                   -5.77e-01   \nGNI, Atlas method (current US$)                                              -5.45e-01   \nGross capital formation (% of GDP)                                            6.75e-01   \nImports of goods and services (% of GDP)                                     -5.44e-02   \nIndustry (including construction), value added ...                            8.09e-01   \nInflation, GDP deflator (annual %)                                            1.00e+00   \nMerchandise trade (% of GDP)                                                 -3.93e-01   \nMilitary expenditure (% of GDP)                                               4.82e-01   \nMobile cellular subscriptions (per 100 people)                               -5.70e-01   \nPersonal remittances, received (current US$)                                 -6.17e-01   \nPopulation density (people per sq. km of land a...                            6.63e-01   \nPopulation growth (annual %)                                                 -3.46e-03   \nPopulation, total                                                             6.33e-01   \nPrevalence of HIV, total (% of population ages ...                                 NaN   \nUrban population growth (annual %)                                           -5.00e-02   \n\n                                                    Merchandise trade (% of GDP)  \\\nAgriculture, forestry, and fishing, value added...                         -0.63   \nExports of goods and services (% of GDP)                                    0.84   \nForest area (sq. km)                                                        0.64   \nGDP (current US$)                                                           0.26   \nGDP growth (annual %)                                                       0.04   \nGNI per capita, Atlas method (current US$)                                  0.35   \nGNI, Atlas method (current US$)                                             0.28   \nGross capital formation (% of GDP)                                          0.03   \nImports of goods and services (% of GDP)                                    0.87   \nIndustry (including construction), value added ...                         -0.65   \nInflation, GDP deflator (annual %)                                         -0.39   \nMerchandise trade (% of GDP)                                                1.00   \nMilitary expenditure (% of GDP)                                            -0.33   \nMobile cellular subscriptions (per 100 people)                              0.28   \nPersonal remittances, received (current US$)                                0.78   \nPopulation density (people per sq. km of land a...                         -0.87   \nPopulation growth (annual %)                                               -0.15   \nPopulation, total                                                          -0.85   \nPrevalence of HIV, total (% of population ages ...                           NaN   \nUrban population growth (annual %)                                         -0.08   \n\n                                                    Military expenditure (% of GDP)  \\\nAgriculture, forestry, and fishing, value added...                             0.79   \nExports of goods and services (% of GDP)                                      -0.42   \nForest area (sq. km)                                                          -0.74   \nGDP (current US$)                                                             -0.84   \nGDP growth (annual %)                                                          0.19   \nGNI per capita, Atlas method (current US$)                                    -0.83   \nGNI, Atlas method (current US$)                                               -0.83   \nGross capital formation (% of GDP)                                            -0.10   \nImports of goods and services (% of GDP)                                      -0.28   \nIndustry (including construction), value added ...                             0.47   \nInflation, GDP deflator (annual %)                                             0.48   \nMerchandise trade (% of GDP)                                                  -0.33   \nMilitary expenditure (% of GDP)                                                1.00   \nMobile cellular subscriptions (per 100 people)                                -0.88   \nPersonal remittances, received (current US$)                                  -0.68   \nPopulation density (people per sq. km of land a...                             0.51   \nPopulation growth (annual %)                                                  -0.43   \nPopulation, total                                                              0.53   \nPrevalence of HIV, total (% of population ages ...                              NaN   \nUrban population growth (annual %)                                            -0.44   \n\n                                                    Mobile cellular subscriptions (per 100 people)  \\\nAgriculture, forestry, and fishing, value added...                                           -0.80   \nExports of goods and services (% of GDP)                                                      0.38   \nForest area (sq. km)                                                                          0.83   \nGDP (current US$)                                                                             0.94   \nGDP growth (annual %)                                                                        -0.42   \nGNI per capita, Atlas method (current US$)                                                    0.96   \nGNI, Atlas method (current US$)                                                               0.96   \nGross capital formation (% of GDP)                                                           -0.08   \nImports of goods and services (% of GDP)                                                      0.11   \nIndustry (including construction), value added ...                                           -0.60   \nInflation, GDP deflator (annual %)                                                           -0.57   \nMerchandise trade (% of GDP)                                                                  0.28   \nMilitary expenditure (% of GDP)                                                              -0.88   \nMobile cellular subscriptions (per 100 people)                                                1.00   \nPersonal remittances, received (current US$)                                                  0.72   \nPopulation density (people per sq. km of land a...                                           -0.50   \nPopulation growth (annual %)                                                                  0.37   \nPopulation, total                                                                            -0.51   \nPrevalence of HIV, total (% of population ages ...                                             NaN   \nUrban population growth (annual %)                                                            0.39   \n\n                                                    Personal remittances, received (current US$)  \\\nAgriculture, forestry, and fishing, value added...                                         -0.86   \nExports of goods and services (% of GDP)                                                    0.77   \nForest area (sq. km)                                                                        0.96   \nGDP (current US$)                                                                           0.73   \nGDP growth (annual %)                                                                      -0.36   \nGNI per capita, Atlas method (current US$)                                                  0.81   \nGNI, Atlas method (current US$)                                                             0.76   \nGross capital formation (% of GDP)                                                         -0.09   \nImports of goods and services (% of GDP)                                                    0.57   \nIndustry (including construction), value added ...                                         -0.82   \nInflation, GDP deflator (annual %)                                                         -0.62   \nMerchandise trade (% of GDP)                                                                0.78   \nMilitary expenditure (% of GDP)                                                            -0.68   \nMobile cellular subscriptions (per 100 people)                                              0.72   \nPersonal remittances, received (current US$)                                                1.00   \nPopulation density (people per sq. km of land a...                                         -0.90   \nPopulation growth (annual %)                                                                0.11   \nPopulation, total                                                                          -0.90   \nPrevalence of HIV, total (% of population ages ...                                           NaN   \nUrban population growth (annual %)                                                          0.17   \n\n                                                    Population density (people per sq. km of land area)  \\\nAgriculture, forestry, and fishing, value added...                                               0.79     \nExports of goods and services (% of GDP)                                                        -0.86     \nForest area (sq. km)                                                                            -0.85     \nGDP (current US$)                                                                               -0.44     \nGDP growth (annual %)                                                                            0.23     \nGNI per capita, Atlas method (current US$)                                                      -0.56     \nGNI, Atlas method (current US$)                                                                 -0.50     \nGross capital formation (% of GDP)                                                               0.17     \nImports of goods and services (% of GDP)                                                        -0.69     \nIndustry (including construction), value added ...                                               0.84     \nInflation, GDP deflator (annual %)                                                               0.66     \nMerchandise trade (% of GDP)                                                                    -0.87     \nMilitary expenditure (% of GDP)                                                                  0.51     \nMobile cellular subscriptions (per 100 people)                                                  -0.50     \nPersonal remittances, received (current US$)                                                    -0.90     \nPopulation density (people per sq. km of land a...                                               1.00     \nPopulation growth (annual %)                                                                     0.11     \nPopulation, total                                                                                0.99     \nPrevalence of HIV, total (% of population ages ...                                                NaN     \nUrban population growth (annual %)                                                               0.03     \n\n                                                    Population growth (annual %)  \\\nAgriculture, forestry, and fishing, value added...                     -1.94e-01   \nExports of goods and services (% of GDP)                               -2.07e-01   \nForest area (sq. km)                                                    1.41e-01   \nGDP (current US$)                                                       4.06e-01   \nGDP growth (annual %)                                                  -4.81e-02   \nGNI per capita, Atlas method (current US$)                              3.20e-01   \nGNI, Atlas method (current US$)                                         3.46e-01   \nGross capital formation (% of GDP)                                      3.87e-01   \nImports of goods and services (% of GDP)                                1.75e-02   \nIndustry (including construction), value added ...                      9.40e-02   \nInflation, GDP deflator (annual %)                                     -3.46e-03   \nMerchandise trade (% of GDP)                                           -1.52e-01   \nMilitary expenditure (% of GDP)                                        -4.25e-01   \nMobile cellular subscriptions (per 100 people)                          3.74e-01   \nPersonal remittances, received (current US$)                            1.08e-01   \nPopulation density (people per sq. km of land a...                      1.06e-01   \nPopulation growth (annual %)                                            1.00e+00   \nPopulation, total                                                       9.54e-02   \nPrevalence of HIV, total (% of population ages ...                           NaN   \nUrban population growth (annual %)                                      9.96e-01   \n\n                                                    Population, total  \\\nAgriculture, forestry, and fishing, value added...               0.77   \nExports of goods and services (% of GDP)                        -0.83   \nForest area (sq. km)                                            -0.85   \nGDP (current US$)                                               -0.46   \nGDP growth (annual %)                                            0.25   \nGNI per capita, Atlas method (current US$)                      -0.57   \nGNI, Atlas method (current US$)                                 -0.50   \nGross capital formation (% of GDP)                               0.14   \nImports of goods and services (% of GDP)                        -0.69   \nIndustry (including construction), value added ...               0.82   \nInflation, GDP deflator (annual %)                               0.63   \nMerchandise trade (% of GDP)                                    -0.85   \nMilitary expenditure (% of GDP)                                  0.53   \nMobile cellular subscriptions (per 100 people)                  -0.51   \nPersonal remittances, received (current US$)                    -0.90   \nPopulation density (people per sq. km of land a...               0.99   \nPopulation growth (annual %)                                     0.10   \nPopulation, total                                                1.00   \nPrevalence of HIV, total (% of population ages ...                NaN   \nUrban population growth (annual %)                               0.03   \n\n                                                    Prevalence of HIV, total (% of population ages 15-49)  \\\nAgriculture, forestry, and fishing, value added...                                                NaN       \nExports of goods and services (% of GDP)                                                          NaN       \nForest area (sq. km)                                                                              NaN       \nGDP (current US$)                                                                                 NaN       \nGDP growth (annual %)                                                                             NaN       \nGNI per capita, Atlas method (current US$)                                                        NaN       \nGNI, Atlas method (current US$)                                                                   NaN       \nGross capital formation (% of GDP)                                                                NaN       \nImports of goods and services (% of GDP)                                                          NaN       \nIndustry (including construction), value added ...                                                NaN       \nInflation, GDP deflator (annual %)                                                                NaN       \nMerchandise trade (% of GDP)                                                                      NaN       \nMilitary expenditure (% of GDP)                                                                   NaN       \nMobile cellular subscriptions (per 100 people)                                                    NaN       \nPersonal remittances, received (current US$)                                                      NaN       \nPopulation density (people per sq. km of land a...                                                NaN       \nPopulation growth (annual %)                                                                      NaN       \nPopulation, total                                                                                 NaN       \nPrevalence of HIV, total (% of population ages ...                                                NaN       \nUrban population growth (annual %)                                                                NaN       \n\n                                                    Urban population growth (annual %)  \nAgriculture, forestry, and fishing, value added...                               -0.25  \nExports of goods and services (% of GDP)                                         -0.14  \nForest area (sq. km)                                                              0.20  \nGDP (current US$)                                                                 0.42  \nGDP growth (annual %)                                                            -0.07  \nGNI per capita, Atlas method (current US$)                                        0.35  \nGNI, Atlas method (current US$)                                                   0.37  \nGross capital formation (% of GDP)                                                0.37  \nImports of goods and services (% of GDP)                                          0.07  \nIndustry (including construction), value added ...                                0.03  \nInflation, GDP deflator (annual %)                                               -0.05  \nMerchandise trade (% of GDP)                                                     -0.08  \nMilitary expenditure (% of GDP)                                                  -0.44  \nMobile cellular subscriptions (per 100 people)                                    0.39  \nPersonal remittances, received (current US$)                                      0.17  \nPopulation density (people per sq. km of land a...                                0.03  \nPopulation growth (annual %)                                                      1.00  \nPopulation, total                                                                 0.03  \nPrevalence of HIV, total (% of population ages ...                                 NaN  \nUrban population growth (annual %)                                                1.00  ",
      "text/html": "<div>\n<style scoped>\n    .dataframe tbody tr th:only-of-type {\n        vertical-align: middle;\n    }\n\n    .dataframe tbody tr th {\n        vertical-align: top;\n    }\n\n    .dataframe thead th {\n        text-align: right;\n    }\n</style>\n<table border=\"1\" class=\"dataframe\">\n  <thead>\n    <tr style=\"text-align: right;\">\n      <th></th>\n      <th>Agriculture, forestry, and fishing, value added (% of GDP)</th>\n      <th>Exports of goods and services (% of GDP)</th>\n      <th>Forest area (sq. km)</th>\n      <th>GDP (current US$)</th>\n      <th>GDP growth (annual %)</th>\n      <th>GNI per capita, Atlas method (current US$)</th>\n      <th>GNI, Atlas method (current US$)</th>\n      <th>Gross capital formation (% of GDP)</th>\n      <th>Imports of goods and services (% of GDP)</th>\n      <th>Industry (including construction), value added (% of GDP)</th>\n      <th>Inflation, GDP deflator (annual %)</th>\n      <th>Merchandise trade (% of GDP)</th>\n      <th>Military expenditure (% of GDP)</th>\n      <th>Mobile cellular subscriptions (per 100 people)</th>\n      <th>Personal remittances, received (current US$)</th>\n      <th>Population density (people per sq. km of land area)</th>\n      <th>Population growth (annual %)</th>\n      <th>Population, total</th>\n      <th>Prevalence of HIV, total (% of population ages 15-49)</th>\n      <th>Urban population growth (annual %)</th>\n    </tr>\n  </thead>\n  <tbody>\n    <tr>\n      <th>Agriculture, forestry, and fishing, value added (% of GDP)</th>\n      <td>1.00</td>\n      <td>-0.77</td>\n      <td>-0.91</td>\n      <td>-0.73</td>\n      <td>0.24</td>\n      <td>-0.81</td>\n      <td>-0.78</td>\n      <td>0.26</td>\n      <td>-0.43</td>\n      <td>0.85</td>\n      <td>7.64e-01</td>\n      <td>-0.63</td>\n      <td>0.79</td>\n      <td>-0.80</td>\n      <td>-0.86</td>\n      <td>0.79</td>\n      <td>-1.94e-01</td>\n      <td>0.77</td>\n      <td>NaN</td>\n      <td>-0.25</td>\n    </tr>\n    <tr>\n      <th>Exports of goods and services (% of GDP)</th>\n      <td>-0.77</td>\n      <td>1.00</td>\n      <td>0.71</td>\n      <td>0.32</td>\n      <td>0.12</td>\n      <td>0.44</td>\n      <td>0.38</td>\n      <td>-0.35</td>\n      <td>0.69</td>\n      <td>-0.85</td>\n      <td>-6.21e-01</td>\n      <td>0.84</td>\n      <td>-0.42</td>\n      <td>0.38</td>\n      <td>0.77</td>\n      <td>-0.86</td>\n      <td>-2.07e-01</td>\n      <td>-0.83</td>\n      <td>NaN</td>\n      <td>-0.14</td>\n    </tr>\n    <tr>\n      <th>Forest area (sq. km)</th>\n      <td>-0.91</td>\n      <td>0.71</td>\n      <td>1.00</td>\n      <td>0.80</td>\n      <td>-0.49</td>\n      <td>0.89</td>\n      <td>0.86</td>\n      <td>-0.26</td>\n      <td>0.38</td>\n      <td>-0.87</td>\n      <td>-7.51e-01</td>\n      <td>0.64</td>\n      <td>-0.74</td>\n      <td>0.83</td>\n      <td>0.96</td>\n      <td>-0.85</td>\n      <td>1.41e-01</td>\n      <td>-0.85</td>\n      <td>NaN</td>\n      <td>0.20</td>\n    </tr>\n    <tr>\n      <th>GDP (current US$)</th>\n      <td>-0.73</td>\n      <td>0.32</td>\n      <td>0.80</td>\n      <td>1.00</td>\n      <td>-0.43</td>\n      <td>0.97</td>\n      <td>0.97</td>\n      <td>0.05</td>\n      <td>0.13</td>\n      <td>-0.52</td>\n      <td>-3.98e-01</td>\n      <td>0.26</td>\n      <td>-0.84</td>\n      <td>0.94</td>\n      <td>0.73</td>\n      <td>-0.44</td>\n      <td>4.06e-01</td>\n      <td>-0.46</td>\n      <td>NaN</td>\n      <td>0.42</td>\n    </tr>\n    <tr>\n      <th>GDP growth (annual %)</th>\n      <td>0.24</td>\n      <td>0.12</td>\n      <td>-0.49</td>\n      <td>-0.43</td>\n      <td>1.00</td>\n      <td>-0.52</td>\n      <td>-0.52</td>\n      <td>0.27</td>\n      <td>0.37</td>\n      <td>0.28</td>\n      <td>4.25e-01</td>\n      <td>0.04</td>\n      <td>0.19</td>\n      <td>-0.42</td>\n      <td>-0.36</td>\n      <td>0.23</td>\n      <td>-4.81e-02</td>\n      <td>0.25</td>\n      <td>NaN</td>\n      <td>-0.07</td>\n    </tr>\n    <tr>\n      <th>GNI per capita, Atlas method (current US$)</th>\n      <td>-0.81</td>\n      <td>0.44</td>\n      <td>0.89</td>\n      <td>0.97</td>\n      <td>-0.52</td>\n      <td>1.00</td>\n      <td>1.00</td>\n      <td>-0.11</td>\n      <td>0.14</td>\n      <td>-0.66</td>\n      <td>-5.77e-01</td>\n      <td>0.35</td>\n      <td>-0.83</td>\n      <td>0.96</td>\n      <td>0.81</td>\n      <td>-0.56</td>\n      <td>3.20e-01</td>\n      <td>-0.57</td>\n      <td>NaN</td>\n      <td>0.35</td>\n    </tr>\n    <tr>\n      <th>GNI, Atlas method (current US$)</th>\n      <td>-0.78</td>\n      <td>0.38</td>\n      <td>0.86</td>\n      <td>0.97</td>\n      <td>-0.52</td>\n      <td>1.00</td>\n      <td>1.00</td>\n      <td>-0.10</td>\n      <td>0.08</td>\n      <td>-0.61</td>\n      <td>-5.45e-01</td>\n      <td>0.28</td>\n      <td>-0.83</td>\n      <td>0.96</td>\n      <td>0.76</td>\n      <td>-0.50</td>\n      <td>3.46e-01</td>\n      <td>-0.50</td>\n      <td>NaN</td>\n      <td>0.37</td>\n    </tr>\n    <tr>\n      <th>Gross capital formation (% of GDP)</th>\n      <td>0.26</td>\n      <td>-0.35</td>\n      <td>-0.26</td>\n      <td>0.05</td>\n      <td>0.27</td>\n      <td>-0.11</td>\n      <td>-0.10</td>\n      <td>1.00</td>\n      <td>0.36</td>\n      <td>0.54</td>\n      <td>6.75e-01</td>\n      <td>0.03</td>\n      <td>-0.10</td>\n      <td>-0.08</td>\n      <td>-0.09</td>\n      <td>0.17</td>\n      <td>3.87e-01</td>\n      <td>0.14</td>\n      <td>NaN</td>\n      <td>0.37</td>\n    </tr>\n    <tr>\n      <th>Imports of goods and services (% of GDP)</th>\n      <td>-0.43</td>\n      <td>0.69</td>\n      <td>0.38</td>\n      <td>0.13</td>\n      <td>0.37</td>\n      <td>0.14</td>\n      <td>0.08</td>\n      <td>0.36</td>\n      <td>1.00</td>\n      <td>-0.38</td>\n      <td>-5.44e-02</td>\n      <td>0.87</td>\n      <td>-0.28</td>\n      <td>0.11</td>\n      <td>0.57</td>\n      <td>-0.69</td>\n      <td>1.75e-02</td>\n      <td>-0.69</td>\n      <td>NaN</td>\n      <td>0.07</td>\n    </tr>\n    <tr>\n      <th>Industry (including construction), value added (% of GDP)</th>\n      <td>0.85</td>\n      <td>-0.85</td>\n      <td>-0.87</td>\n      <td>-0.52</td>\n      <td>0.28</td>\n      <td>-0.66</td>\n      <td>-0.61</td>\n      <td>0.54</td>\n      <td>-0.38</td>\n      <td>1.00</td>\n      <td>8.09e-01</td>\n      <td>-0.65</td>\n      <td>0.47</td>\n      <td>-0.60</td>\n      <td>-0.82</td>\n      <td>0.84</td>\n      <td>9.40e-02</td>\n      <td>0.82</td>\n      <td>NaN</td>\n      <td>0.03</td>\n    </tr>\n    <tr>\n      <th>Inflation, GDP deflator (annual %)</th>\n      <td>0.76</td>\n      <td>-0.62</td>\n      <td>-0.75</td>\n      <td>-0.40</td>\n      <td>0.43</td>\n      <td>-0.58</td>\n      <td>-0.55</td>\n      <td>0.67</td>\n      <td>-0.05</td>\n      <td>0.81</td>\n      <td>1.00e+00</td>\n      <td>-0.39</td>\n      <td>0.48</td>\n      <td>-0.57</td>\n      <td>-0.62</td>\n      <td>0.66</td>\n      <td>-3.46e-03</td>\n      <td>0.63</td>\n      <td>NaN</td>\n      <td>-0.05</td>\n    </tr>\n    <tr>\n      <th>Merchandise trade (% of GDP)</th>\n      <td>-0.63</td>\n      <td>0.84</td>\n      <td>0.64</td>\n      <td>0.26</td>\n      <td>0.04</td>\n      <td>0.35</td>\n      <td>0.28</td>\n      <td>0.03</td>\n      <td>0.87</td>\n      <td>-0.65</td>\n      <td>-3.93e-01</td>\n      <td>1.00</td>\n      <td>-0.33</td>\n      <td>0.28</td>\n      <td>0.78</td>\n      <td>-0.87</td>\n      <td>-1.52e-01</td>\n      <td>-0.85</td>\n      <td>NaN</td>\n      <td>-0.08</td>\n    </tr>\n    <tr>\n      <th>Military expenditure (% of GDP)</th>\n      <td>0.79</td>\n      <td>-0.42</td>\n      <td>-0.74</td>\n      <td>-0.84</td>\n      <td>0.19</td>\n      <td>-0.83</td>\n      <td>-0.83</td>\n      <td>-0.10</td>\n      <td>-0.28</td>\n      <td>0.47</td>\n      <td>4.82e-01</td>\n      <td>-0.33</td>\n      <td>1.00</td>\n      <td>-0.88</td>\n      <td>-0.68</td>\n      <td>0.51</td>\n      <td>-4.25e-01</td>\n      <td>0.53</td>\n      <td>NaN</td>\n      <td>-0.44</td>\n    </tr>\n    <tr>\n      <th>Mobile cellular subscriptions (per 100 people)</th>\n      <td>-0.80</td>\n      <td>0.38</td>\n      <td>0.83</td>\n      <td>0.94</td>\n      <td>-0.42</td>\n      <td>0.96</td>\n      <td>0.96</td>\n      <td>-0.08</td>\n      <td>0.11</td>\n      <td>-0.60</td>\n      <td>-5.70e-01</td>\n      <td>0.28</td>\n      <td>-0.88</td>\n      <td>1.00</td>\n      <td>0.72</td>\n      <td>-0.50</td>\n      <td>3.74e-01</td>\n      <td>-0.51</td>\n      <td>NaN</td>\n      <td>0.39</td>\n    </tr>\n    <tr>\n      <th>Personal remittances, received (current US$)</th>\n      <td>-0.86</td>\n      <td>0.77</td>\n      <td>0.96</td>\n      <td>0.73</td>\n      <td>-0.36</td>\n      <td>0.81</td>\n      <td>0.76</td>\n      <td>-0.09</td>\n      <td>0.57</td>\n      <td>-0.82</td>\n      <td>-6.17e-01</td>\n      <td>0.78</td>\n      <td>-0.68</td>\n      <td>0.72</td>\n      <td>1.00</td>\n      <td>-0.90</td>\n      <td>1.08e-01</td>\n      <td>-0.90</td>\n      <td>NaN</td>\n      <td>0.17</td>\n    </tr>\n    <tr>\n      <th>Population density (people per sq. km of land area)</th>\n      <td>0.79</td>\n      <td>-0.86</td>\n      <td>-0.85</td>\n      <td>-0.44</td>\n      <td>0.23</td>\n      <td>-0.56</td>\n      <td>-0.50</td>\n      <td>0.17</td>\n      <td>-0.69</td>\n      <td>0.84</td>\n      <td>6.63e-01</td>\n      <td>-0.87</td>\n      <td>0.51</td>\n      <td>-0.50</td>\n      <td>-0.90</td>\n      <td>1.00</td>\n      <td>1.06e-01</td>\n      <td>0.99</td>\n      <td>NaN</td>\n      <td>0.03</td>\n    </tr>\n    <tr>\n      <th>Population growth (annual %)</th>\n      <td>-0.19</td>\n      <td>-0.21</td>\n      <td>0.14</td>\n      <td>0.41</td>\n      <td>-0.05</td>\n      <td>0.32</td>\n      <td>0.35</td>\n      <td>0.39</td>\n      <td>0.02</td>\n      <td>0.09</td>\n      <td>-3.46e-03</td>\n      <td>-0.15</td>\n      <td>-0.43</td>\n      <td>0.37</td>\n      <td>0.11</td>\n      <td>0.11</td>\n      <td>1.00e+00</td>\n      <td>0.10</td>\n      <td>NaN</td>\n      <td>1.00</td>\n    </tr>\n    <tr>\n      <th>Population, total</th>\n      <td>0.77</td>\n      <td>-0.83</td>\n      <td>-0.85</td>\n      <td>-0.46</td>\n      <td>0.25</td>\n      <td>-0.57</td>\n      <td>-0.50</td>\n      <td>0.14</td>\n      <td>-0.69</td>\n      <td>0.82</td>\n      <td>6.33e-01</td>\n      <td>-0.85</td>\n      <td>0.53</td>\n      <td>-0.51</td>\n      <td>-0.90</td>\n      <td>0.99</td>\n      <td>9.54e-02</td>\n      <td>1.00</td>\n      <td>NaN</td>\n      <td>0.03</td>\n    </tr>\n    <tr>\n      <th>Prevalence of HIV, total (% of population ages 15-49)</th>\n      <td>NaN</td>\n      <td>NaN</td>\n      <td>NaN</td>\n      <td>NaN</td>\n      <td>NaN</td>\n      <td>NaN</td>\n      <td>NaN</td>\n      <td>NaN</td>\n      <td>NaN</td>\n      <td>NaN</td>\n      <td>NaN</td>\n      <td>NaN</td>\n      <td>NaN</td>\n      <td>NaN</td>\n      <td>NaN</td>\n      <td>NaN</td>\n      <td>NaN</td>\n      <td>NaN</td>\n      <td>NaN</td>\n      <td>NaN</td>\n    </tr>\n    <tr>\n      <th>Urban population growth (annual %)</th>\n      <td>-0.25</td>\n      <td>-0.14</td>\n      <td>0.20</td>\n      <td>0.42</td>\n      <td>-0.07</td>\n      <td>0.35</td>\n      <td>0.37</td>\n      <td>0.37</td>\n      <td>0.07</td>\n      <td>0.03</td>\n      <td>-5.00e-02</td>\n      <td>-0.08</td>\n      <td>-0.44</td>\n      <td>0.39</td>\n      <td>0.17</td>\n      <td>0.03</td>\n      <td>9.96e-01</td>\n      <td>0.03</td>\n      <td>NaN</td>\n      <td>1.00</td>\n    </tr>\n  </tbody>\n</table>\n</div>"
     },
     "execution_count": 11,
     "metadata": {},
     "output_type": "execute_result"
    }
   ],
   "source": [
    "correlation_indicators_of_country(wdi, \"Croatia\")"
   ],
   "metadata": {
    "collapsed": false,
    "pycharm": {
     "name": "#%%\n"
    }
   }
  },
  {
   "cell_type": "markdown",
   "source": [
    "TODO Use pandas bfill to interpolate missing values or something like that\n",
    "\n",
    "TODO: Make sure that there are no obvious outliers by plotting some boxplots\n",
    "\n",
    "TODO: Merge with the disasters\n",
    "\n",
    "TODO: Use small multiples to create tons of graphs\n"
   ],
   "metadata": {
    "collapsed": false,
    "pycharm": {
     "name": "#%% md\n"
    }
   }
  }
 ],
 "metadata": {
  "kernelspec": {
   "display_name": "Python 3 (ipykernel)",
   "language": "python",
   "name": "python3"
  },
  "language_info": {
   "codemirror_mode": {
    "name": "ipython",
    "version": 3
   },
   "file_extension": ".py",
   "mimetype": "text/x-python",
   "name": "python",
   "nbconvert_exporter": "python",
   "pygments_lexer": "ipython3",
   "version": "3.9.7"
  }
 },
 "nbformat": 4,
 "nbformat_minor": 5
}