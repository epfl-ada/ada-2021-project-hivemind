{
 "cells": [
  {
   "cell_type": "code",
   "execution_count": null,
   "outputs": [],
   "source": [
    "%config Completer.use_jedi = False"
   ],
   "metadata": {
    "collapsed": false,
    "pycharm": {
     "name": "#%%\n"
    }
   }
  },
  {
   "cell_type": "markdown",
   "source": [
    "# World Development Indicators\n",
    "\n",
    "To supplement the disaster dataset, we have selected 55 different world development indicators from the [World Data Bank](https://databank.worldbank.org/source/world-development-indicators). We took the per-year data from year 2000 to year 2020 and for all available countries. Detailed indicator description is given in the metadata csv file `databank_wdi_metadata.csv`, including the source, unit of measure, periodicity, aggregation method, statistical concept and methodology, development relevance and limitations. Raw data is saved in `databank_wdi_data.csv`, with the preprocessed dataset created in this notebook saved in `databank_wdi_data_clean.csv`. Cheers."
   ],
   "metadata": {
    "collapsed": false
   }
  },
  {
   "cell_type": "code",
   "execution_count": null,
   "outputs": [],
   "source": [
    "import numpy as np\n",
    "import pandas as pd\n",
    "\n",
    "pd.set_option(\"display.precision\", 2)"
   ],
   "metadata": {
    "collapsed": false,
    "pycharm": {
     "name": "#%%\n"
    }
   }
  },
  {
   "cell_type": "code",
   "execution_count": null,
   "outputs": [],
   "source": [
    "wdi = pd.read_csv(\"datasets/databank_wdi_data.csv\", na_values=\"..\")\n",
    "wdi = wdi.rename(columns={\n",
    "    \"Country Name\":\"country_name\",\n",
    "    \"Country Code\":\"country_code\",\n",
    "    \"Series Name\":\"indicator_name\",\n",
    "    \"Series Code\":\"indicator_code\",\n",
    "})\n",
    "wdi = wdi.rename(columns={f\"{y} [YR{y}]\":f\"{y}\" for y in range(2000,2020+1)})\n",
    "wdi.info()"
   ],
   "metadata": {
    "collapsed": false,
    "pycharm": {
     "name": "#%%\n"
    }
   }
  },
  {
   "cell_type": "code",
   "execution_count": null,
   "outputs": [],
   "source": [
    "wdi.describe()"
   ],
   "metadata": {
    "collapsed": false,
    "pycharm": {
     "name": "#%%\n"
    }
   }
  },
  {
   "cell_type": "code",
   "execution_count": null,
   "outputs": [],
   "source": [
    "print(f\"Index unique: {wdi.index.is_unique}\")\n",
    "print(f\"Dataframe has dupliates: {sum(wdi.duplicated()) > 0}, n={sum(wdi.duplicated())}\")"
   ],
   "metadata": {
    "collapsed": false,
    "pycharm": {
     "name": "#%%\n"
    }
   }
  },
  {
   "cell_type": "code",
   "execution_count": null,
   "outputs": [],
   "source": [
    "print(f\"Number of countries: {len(wdi.country_name.unique())}\")\n",
    "indicators = wdi.indicator_name.unique()\n",
    "print(f\"Number of indicators:{len(indicators)}\")\n",
    "print(f\"Indicators:\")\n",
    "for i, s in enumerate(indicators):\n",
    "    print(f\"\\t{i} --> {s}\")"
   ],
   "metadata": {
    "collapsed": false,
    "pycharm": {
     "name": "#%%\n"
    }
   }
  },
  {
   "cell_type": "code",
   "execution_count": null,
   "outputs": [],
   "source": [
    "interesting_indicators = [\n",
    "    \"Population, total\",\n",
    "    \"Population density (people per sq. km of land area)\",\n",
    "    \"Surface area (sq. km)\",\n",
    "    \"School enrollment, secondary (% gross)\",\n",
    "    \"GDP (current US$)\",\n",
    "    \"Energy use (kg of oil equivalent per capita)\",\n",
    "]\n",
    "\n",
    "print(f\"A list of some interesing indicators:\")\n",
    "for i, s in enumerate(indicators):\n",
    "    if s in interesting_indicators:\n",
    "        print(f\"\\t{i} --> {s}\")"
   ],
   "metadata": {
    "collapsed": false,
    "pycharm": {
     "name": "#%%\n"
    }
   }
  },
  {
   "cell_type": "code",
   "execution_count": null,
   "outputs": [],
   "source": [
    "croatia = wdi[wdi.country_name == \"Croatia\"]\n",
    "# croatia\n",
    "croatia[croatia.indicator_name.isin(interesting_indicators)]"
   ],
   "metadata": {
    "collapsed": false,
    "pycharm": {
     "name": "#%%\n"
    }
   }
  },
  {
   "cell_type": "code",
   "execution_count": null,
   "outputs": [],
   "source": [
    "haiti = wdi[wdi.country_name == \"Haiti\"]\n",
    "haiti[haiti.indicator_name.isin(interesting_indicators)]"
   ],
   "metadata": {
    "collapsed": false,
    "pycharm": {
     "name": "#%%\n"
    }
   }
  },
  {
   "cell_type": "markdown",
   "source": [
    "## Discussion\n",
    "\n",
    "Some data is missing. For some countries like Haiti, there was no information on `School enrollment, secondary (% gross)`, whereas for Croatia, there was no data about it only for year 2020. Missing data will need to be taken care of when applying machine learning models. Different models have different \"preferences\" which we will need to take care of ad hoc. It will likely make sense to interpolate some of the missing fields. For example, if the country surface area was reported for the past 3 years, but was not reported for year 2020 (like for Croatia), we might just want to copy the surface area from the previous year, as it very likely did not change. Or we could compute it by dividing the population by the population density. Overall, data polishing might require a lot of work and we should be cautious about it when reaching towards machine learning models.\n",
    "\n",
    "TODO Analyse correlations in the data\n",
    "\n",
    "TODO Use pandas bfill to interpolate missing values or something like that\n",
    "\n",
    "TODO: Make sure that there are no obvious outliers by plotting some boxplots\n",
    "\n",
    "TODO: Merge with the disasters\n",
    "\n",
    "TODO: Use small multiples to create tons of graphs\n"
   ],
   "metadata": {
    "collapsed": false
   }
  }
 ],
 "metadata": {
  "kernelspec": {
   "display_name": "Python 3 (ipykernel)",
   "language": "python",
   "name": "python3"
  },
  "language_info": {
   "codemirror_mode": {
    "name": "ipython",
    "version": 3
   },
   "file_extension": ".py",
   "mimetype": "text/x-python",
   "name": "python",
   "nbconvert_exporter": "python",
   "pygments_lexer": "ipython3",
   "version": "3.9.7"
  }
 },
 "nbformat": 4,
 "nbformat_minor": 5
}